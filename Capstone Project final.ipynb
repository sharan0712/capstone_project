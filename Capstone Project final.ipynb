{
 "cells": [
  {
   "cell_type": "code",
   "execution_count": 1,
   "id": "d4e99a27",
   "metadata": {},
   "outputs": [],
   "source": [
    "import pandas as pd \n",
    "import matplotlib.pyplot as plt\n",
    "import re\n",
    "import numpy as np\n",
    "import seaborn as sns\n",
    "from sklearn.preprocessing import MinMaxScaler\n",
    "from scipy import stats\n",
    "from scipy.stats import ttest_1samp"
   ]
  },
  {
   "cell_type": "markdown",
   "id": "803dddd3",
   "metadata": {},
   "source": [
    "# Reading files"
   ]
  },
  {
   "cell_type": "code",
   "execution_count": 2,
   "id": "79c979fc",
   "metadata": {},
   "outputs": [],
   "source": [
    "Cust=pd.read_csv(\"Customer_data1.csv\")\n",
    "Trans=pd.read_csv(\"Transcation_data1.csv\")"
   ]
  },
  {
   "cell_type": "code",
   "execution_count": 3,
   "id": "06c21a63",
   "metadata": {},
   "outputs": [
    {
     "data": {
      "text/html": [
       "<div>\n",
       "<style scoped>\n",
       "    .dataframe tbody tr th:only-of-type {\n",
       "        vertical-align: middle;\n",
       "    }\n",
       "\n",
       "    .dataframe tbody tr th {\n",
       "        vertical-align: top;\n",
       "    }\n",
       "\n",
       "    .dataframe thead th {\n",
       "        text-align: right;\n",
       "    }\n",
       "</style>\n",
       "<table border=\"1\" class=\"dataframe\">\n",
       "  <thead>\n",
       "    <tr style=\"text-align: right;\">\n",
       "      <th></th>\n",
       "      <th>LYLTY_CARD_NBR</th>\n",
       "      <th>LIFESTAGE</th>\n",
       "      <th>PREMIUM_CUSTOMER</th>\n",
       "    </tr>\n",
       "  </thead>\n",
       "  <tbody>\n",
       "    <tr>\n",
       "      <th>0</th>\n",
       "      <td>1000</td>\n",
       "      <td>YOUNG SINGLES/COUPLES</td>\n",
       "      <td>Premium</td>\n",
       "    </tr>\n",
       "    <tr>\n",
       "      <th>1</th>\n",
       "      <td>1002</td>\n",
       "      <td>YOUNG SINGLES/COUPLES</td>\n",
       "      <td>Mainstream</td>\n",
       "    </tr>\n",
       "    <tr>\n",
       "      <th>2</th>\n",
       "      <td>1003</td>\n",
       "      <td>YOUNG FAMILIES</td>\n",
       "      <td>Budget</td>\n",
       "    </tr>\n",
       "    <tr>\n",
       "      <th>3</th>\n",
       "      <td>1004</td>\n",
       "      <td>OLDER SINGLES/COUPLES</td>\n",
       "      <td>Mainstream</td>\n",
       "    </tr>\n",
       "    <tr>\n",
       "      <th>4</th>\n",
       "      <td>1005</td>\n",
       "      <td>MIDAGE SINGLES/COUPLES</td>\n",
       "      <td>Mainstream</td>\n",
       "    </tr>\n",
       "  </tbody>\n",
       "</table>\n",
       "</div>"
      ],
      "text/plain": [
       "   LYLTY_CARD_NBR               LIFESTAGE PREMIUM_CUSTOMER\n",
       "0            1000   YOUNG SINGLES/COUPLES          Premium\n",
       "1            1002   YOUNG SINGLES/COUPLES       Mainstream\n",
       "2            1003          YOUNG FAMILIES           Budget\n",
       "3            1004   OLDER SINGLES/COUPLES       Mainstream\n",
       "4            1005  MIDAGE SINGLES/COUPLES       Mainstream"
      ]
     },
     "execution_count": 3,
     "metadata": {},
     "output_type": "execute_result"
    }
   ],
   "source": [
    "Cust.head()"
   ]
  },
  {
   "cell_type": "code",
   "execution_count": 4,
   "id": "75fd7774",
   "metadata": {},
   "outputs": [
    {
     "data": {
      "text/html": [
       "<div>\n",
       "<style scoped>\n",
       "    .dataframe tbody tr th:only-of-type {\n",
       "        vertical-align: middle;\n",
       "    }\n",
       "\n",
       "    .dataframe tbody tr th {\n",
       "        vertical-align: top;\n",
       "    }\n",
       "\n",
       "    .dataframe thead th {\n",
       "        text-align: right;\n",
       "    }\n",
       "</style>\n",
       "<table border=\"1\" class=\"dataframe\">\n",
       "  <thead>\n",
       "    <tr style=\"text-align: right;\">\n",
       "      <th></th>\n",
       "      <th>DATE</th>\n",
       "      <th>STORE_NBR</th>\n",
       "      <th>LYLTY_CARD_NBR</th>\n",
       "      <th>TXN_ID</th>\n",
       "      <th>PROD_NBR</th>\n",
       "      <th>PROD_NAME</th>\n",
       "      <th>PROD_QTY</th>\n",
       "      <th>TOT_SALES</th>\n",
       "    </tr>\n",
       "  </thead>\n",
       "  <tbody>\n",
       "    <tr>\n",
       "      <th>0</th>\n",
       "      <td>2018-10-17 00:00:00.0000000</td>\n",
       "      <td>1</td>\n",
       "      <td>1000</td>\n",
       "      <td>1</td>\n",
       "      <td>5</td>\n",
       "      <td>Natural Chip        Compny SeaSalt175g</td>\n",
       "      <td>2</td>\n",
       "      <td>6.0</td>\n",
       "    </tr>\n",
       "    <tr>\n",
       "      <th>1</th>\n",
       "      <td>2018-09-16 00:00:00.0000000</td>\n",
       "      <td>1</td>\n",
       "      <td>1002</td>\n",
       "      <td>2</td>\n",
       "      <td>58</td>\n",
       "      <td>Red Rock Deli Chikn&amp;Garlic Aioli 150g</td>\n",
       "      <td>1</td>\n",
       "      <td>2.7</td>\n",
       "    </tr>\n",
       "    <tr>\n",
       "      <th>2</th>\n",
       "      <td>2019-03-07 00:00:00.0000000</td>\n",
       "      <td>1</td>\n",
       "      <td>1003</td>\n",
       "      <td>3</td>\n",
       "      <td>52</td>\n",
       "      <td>Grain Waves Sour    Cream&amp;Chives 210G</td>\n",
       "      <td>1</td>\n",
       "      <td>3.6</td>\n",
       "    </tr>\n",
       "    <tr>\n",
       "      <th>3</th>\n",
       "      <td>2019-03-08 00:00:00.0000000</td>\n",
       "      <td>1</td>\n",
       "      <td>1003</td>\n",
       "      <td>4</td>\n",
       "      <td>106</td>\n",
       "      <td>Natural ChipCo      Hony Soy Chckn175g</td>\n",
       "      <td>1</td>\n",
       "      <td>3.0</td>\n",
       "    </tr>\n",
       "    <tr>\n",
       "      <th>4</th>\n",
       "      <td>2018-11-02 00:00:00.0000000</td>\n",
       "      <td>1</td>\n",
       "      <td>1004</td>\n",
       "      <td>5</td>\n",
       "      <td>96</td>\n",
       "      <td>WW Original Stacked Chips 160g</td>\n",
       "      <td>1</td>\n",
       "      <td>1.9</td>\n",
       "    </tr>\n",
       "  </tbody>\n",
       "</table>\n",
       "</div>"
      ],
      "text/plain": [
       "                          DATE  STORE_NBR  LYLTY_CARD_NBR  TXN_ID  PROD_NBR  \\\n",
       "0  2018-10-17 00:00:00.0000000          1            1000       1         5   \n",
       "1  2018-09-16 00:00:00.0000000          1            1002       2        58   \n",
       "2  2019-03-07 00:00:00.0000000          1            1003       3        52   \n",
       "3  2019-03-08 00:00:00.0000000          1            1003       4       106   \n",
       "4  2018-11-02 00:00:00.0000000          1            1004       5        96   \n",
       "\n",
       "                                PROD_NAME  PROD_QTY  TOT_SALES  \n",
       "0  Natural Chip        Compny SeaSalt175g         2        6.0  \n",
       "1   Red Rock Deli Chikn&Garlic Aioli 150g         1        2.7  \n",
       "2   Grain Waves Sour    Cream&Chives 210G         1        3.6  \n",
       "3  Natural ChipCo      Hony Soy Chckn175g         1        3.0  \n",
       "4          WW Original Stacked Chips 160g         1        1.9  "
      ]
     },
     "execution_count": 4,
     "metadata": {},
     "output_type": "execute_result"
    }
   ],
   "source": [
    "Trans.head()"
   ]
  },
  {
   "cell_type": "markdown",
   "id": "a8c57fe2",
   "metadata": {},
   "source": [
    "# merging the 2 files "
   ]
  },
  {
   "cell_type": "code",
   "execution_count": 5,
   "id": "d9bdf958",
   "metadata": {},
   "outputs": [
    {
     "name": "stdout",
     "output_type": "stream",
     "text": [
      "72637\n",
      "264836\n"
     ]
    }
   ],
   "source": [
    "print(len(Cust))\n",
    "print(len(Trans))"
   ]
  },
  {
   "cell_type": "code",
   "execution_count": 6,
   "id": "3ca5fe1c",
   "metadata": {},
   "outputs": [],
   "source": [
    "final = pd.merge(Cust, Trans, on='LYLTY_CARD_NBR', how='outer')"
   ]
  },
  {
   "cell_type": "markdown",
   "id": "93363ea0",
   "metadata": {},
   "source": [
    "# Checking for Null"
   ]
  },
  {
   "cell_type": "code",
   "execution_count": 7,
   "id": "ca59d873",
   "metadata": {},
   "outputs": [
    {
     "data": {
      "text/plain": [
       "LYLTY_CARD_NBR      264836\n",
       "LIFESTAGE           264836\n",
       "PREMIUM_CUSTOMER    264836\n",
       "DATE                264836\n",
       "STORE_NBR           264836\n",
       "TXN_ID              264836\n",
       "PROD_NBR            264836\n",
       "PROD_NAME           264836\n",
       "PROD_QTY            264836\n",
       "TOT_SALES           264836\n",
       "dtype: int64"
      ]
     },
     "execution_count": 7,
     "metadata": {},
     "output_type": "execute_result"
    }
   ],
   "source": [
    "final.count()"
   ]
  },
  {
   "cell_type": "code",
   "execution_count": 8,
   "id": "7df091bf",
   "metadata": {},
   "outputs": [
    {
     "data": {
      "text/plain": [
       "264836"
      ]
     },
     "execution_count": 8,
     "metadata": {},
     "output_type": "execute_result"
    }
   ],
   "source": [
    "len(final)"
   ]
  },
  {
   "cell_type": "code",
   "execution_count": 9,
   "id": "b947f3e6",
   "metadata": {},
   "outputs": [
    {
     "name": "stdout",
     "output_type": "stream",
     "text": [
      "LYLTY_CARD_NBR      0\n",
      "LIFESTAGE           0\n",
      "PREMIUM_CUSTOMER    0\n",
      "DATE                0\n",
      "STORE_NBR           0\n",
      "TXN_ID              0\n",
      "PROD_NBR            0\n",
      "PROD_NAME           0\n",
      "PROD_QTY            0\n",
      "TOT_SALES           0\n",
      "dtype: int64\n"
     ]
    }
   ],
   "source": [
    "print(final.isnull().sum())"
   ]
  },
  {
   "cell_type": "markdown",
   "id": "ec76aed8",
   "metadata": {},
   "source": [
    "# Extracting values from the existing column"
   ]
  },
  {
   "cell_type": "code",
   "execution_count": 75,
   "id": "0b033fc7",
   "metadata": {},
   "outputs": [],
   "source": [
    "def weight(name):\n",
    "    numbers = re.findall('[0-9]+',name)\n",
    "    for i in numbers:\n",
    "        n=int(i)\n",
    "        return(n)\n",
    "def typecase(num):\n",
    "    return int(num)"
   ]
  },
  {
   "cell_type": "code",
   "execution_count": 76,
   "id": "d37668f8",
   "metadata": {},
   "outputs": [
    {
     "name": "stdout",
     "output_type": "stream",
     "text": [
      "<class 'pandas.core.series.Series'>\n"
     ]
    },
    {
     "data": {
      "text/plain": [
       "0    175\n",
       "1    150\n",
       "2    210\n",
       "3    175\n",
       "4    160\n",
       "Name: PROD_NAME, dtype: int64"
      ]
     },
     "execution_count": 76,
     "metadata": {},
     "output_type": "execute_result"
    }
   ],
   "source": [
    "W=final.PROD_NAME.apply(weight)\n",
    "print(type(W))\n",
    "W.head()"
   ]
  },
  {
   "cell_type": "code",
   "execution_count": 12,
   "id": "8e95b189",
   "metadata": {},
   "outputs": [],
   "source": [
    "final.insert(loc=8, column='Weight', value=W)"
   ]
  },
  {
   "cell_type": "code",
   "execution_count": 13,
   "id": "12f8ad89",
   "metadata": {},
   "outputs": [
    {
     "data": {
      "text/html": [
       "<div>\n",
       "<style scoped>\n",
       "    .dataframe tbody tr th:only-of-type {\n",
       "        vertical-align: middle;\n",
       "    }\n",
       "\n",
       "    .dataframe tbody tr th {\n",
       "        vertical-align: top;\n",
       "    }\n",
       "\n",
       "    .dataframe thead th {\n",
       "        text-align: right;\n",
       "    }\n",
       "</style>\n",
       "<table border=\"1\" class=\"dataframe\">\n",
       "  <thead>\n",
       "    <tr style=\"text-align: right;\">\n",
       "      <th></th>\n",
       "      <th>LYLTY_CARD_NBR</th>\n",
       "      <th>LIFESTAGE</th>\n",
       "      <th>PREMIUM_CUSTOMER</th>\n",
       "      <th>DATE</th>\n",
       "      <th>STORE_NBR</th>\n",
       "      <th>TXN_ID</th>\n",
       "      <th>PROD_NBR</th>\n",
       "      <th>PROD_NAME</th>\n",
       "      <th>Weight</th>\n",
       "      <th>PROD_QTY</th>\n",
       "      <th>TOT_SALES</th>\n",
       "    </tr>\n",
       "  </thead>\n",
       "  <tbody>\n",
       "    <tr>\n",
       "      <th>0</th>\n",
       "      <td>1000</td>\n",
       "      <td>YOUNG SINGLES/COUPLES</td>\n",
       "      <td>Premium</td>\n",
       "      <td>2018-10-17 00:00:00.0000000</td>\n",
       "      <td>1</td>\n",
       "      <td>1</td>\n",
       "      <td>5</td>\n",
       "      <td>Natural Chip        Compny SeaSalt175g</td>\n",
       "      <td>175</td>\n",
       "      <td>2</td>\n",
       "      <td>6.0</td>\n",
       "    </tr>\n",
       "    <tr>\n",
       "      <th>1</th>\n",
       "      <td>1002</td>\n",
       "      <td>YOUNG SINGLES/COUPLES</td>\n",
       "      <td>Mainstream</td>\n",
       "      <td>2018-09-16 00:00:00.0000000</td>\n",
       "      <td>1</td>\n",
       "      <td>2</td>\n",
       "      <td>58</td>\n",
       "      <td>Red Rock Deli Chikn&amp;Garlic Aioli 150g</td>\n",
       "      <td>150</td>\n",
       "      <td>1</td>\n",
       "      <td>2.7</td>\n",
       "    </tr>\n",
       "    <tr>\n",
       "      <th>2</th>\n",
       "      <td>1003</td>\n",
       "      <td>YOUNG FAMILIES</td>\n",
       "      <td>Budget</td>\n",
       "      <td>2019-03-07 00:00:00.0000000</td>\n",
       "      <td>1</td>\n",
       "      <td>3</td>\n",
       "      <td>52</td>\n",
       "      <td>Grain Waves Sour    Cream&amp;Chives 210G</td>\n",
       "      <td>210</td>\n",
       "      <td>1</td>\n",
       "      <td>3.6</td>\n",
       "    </tr>\n",
       "    <tr>\n",
       "      <th>3</th>\n",
       "      <td>1003</td>\n",
       "      <td>YOUNG FAMILIES</td>\n",
       "      <td>Budget</td>\n",
       "      <td>2019-03-08 00:00:00.0000000</td>\n",
       "      <td>1</td>\n",
       "      <td>4</td>\n",
       "      <td>106</td>\n",
       "      <td>Natural ChipCo      Hony Soy Chckn175g</td>\n",
       "      <td>175</td>\n",
       "      <td>1</td>\n",
       "      <td>3.0</td>\n",
       "    </tr>\n",
       "    <tr>\n",
       "      <th>4</th>\n",
       "      <td>1004</td>\n",
       "      <td>OLDER SINGLES/COUPLES</td>\n",
       "      <td>Mainstream</td>\n",
       "      <td>2018-11-02 00:00:00.0000000</td>\n",
       "      <td>1</td>\n",
       "      <td>5</td>\n",
       "      <td>96</td>\n",
       "      <td>WW Original Stacked Chips 160g</td>\n",
       "      <td>160</td>\n",
       "      <td>1</td>\n",
       "      <td>1.9</td>\n",
       "    </tr>\n",
       "  </tbody>\n",
       "</table>\n",
       "</div>"
      ],
      "text/plain": [
       "   LYLTY_CARD_NBR              LIFESTAGE PREMIUM_CUSTOMER  \\\n",
       "0            1000  YOUNG SINGLES/COUPLES          Premium   \n",
       "1            1002  YOUNG SINGLES/COUPLES       Mainstream   \n",
       "2            1003         YOUNG FAMILIES           Budget   \n",
       "3            1003         YOUNG FAMILIES           Budget   \n",
       "4            1004  OLDER SINGLES/COUPLES       Mainstream   \n",
       "\n",
       "                          DATE  STORE_NBR  TXN_ID  PROD_NBR  \\\n",
       "0  2018-10-17 00:00:00.0000000          1       1         5   \n",
       "1  2018-09-16 00:00:00.0000000          1       2        58   \n",
       "2  2019-03-07 00:00:00.0000000          1       3        52   \n",
       "3  2019-03-08 00:00:00.0000000          1       4       106   \n",
       "4  2018-11-02 00:00:00.0000000          1       5        96   \n",
       "\n",
       "                                PROD_NAME  Weight  PROD_QTY  TOT_SALES  \n",
       "0  Natural Chip        Compny SeaSalt175g     175         2        6.0  \n",
       "1   Red Rock Deli Chikn&Garlic Aioli 150g     150         1        2.7  \n",
       "2   Grain Waves Sour    Cream&Chives 210G     210         1        3.6  \n",
       "3  Natural ChipCo      Hony Soy Chckn175g     175         1        3.0  \n",
       "4          WW Original Stacked Chips 160g     160         1        1.9  "
      ]
     },
     "execution_count": 13,
     "metadata": {},
     "output_type": "execute_result"
    }
   ],
   "source": [
    "final.head()"
   ]
  },
  {
   "cell_type": "code",
   "execution_count": 14,
   "id": "355d7938",
   "metadata": {},
   "outputs": [],
   "source": [
    "x=final.PROD_QTY.apply(typecase)"
   ]
  },
  {
   "cell_type": "markdown",
   "id": "d90164e4",
   "metadata": {},
   "source": [
    "# Finding Outliers"
   ]
  },
  {
   "cell_type": "code",
   "execution_count": 15,
   "id": "3bfac514",
   "metadata": {},
   "outputs": [
    {
     "data": {
      "image/png": "[encoded data removed]",
      "text/plain": [
       "<Figure size 1080x504 with 1 Axes>"
      ]
     },
     "metadata": {
      "needs_background": "light"
     },
     "output_type": "display_data"
    }
   ],
   "source": [
    "plt.figure(figsize=(15,7))\n",
    "sns.boxplot(x='LIFESTAGE',y='TOT_SALES',data=final,palette='winter')\n",
    "plt.show()"
   ]
  },
  {
   "cell_type": "code",
   "execution_count": 16,
   "id": "dbe386da",
   "metadata": {},
   "outputs": [
    {
     "data": {
      "image/png": "[encoded data removed]",
      "text/plain": [
       "<Figure size 432x288 with 1 Axes>"
      ]
     },
     "metadata": {
      "needs_background": "light"
     },
     "output_type": "display_data"
    }
   ],
   "source": [
    "x=final.Weight\n",
    "y=final.TOT_SALES\n",
    "plt.scatter(x, y)\n",
    "plt.show()"
   ]
  },
  {
   "cell_type": "markdown",
   "id": "1c14a04a",
   "metadata": {},
   "source": [
    "# Handling Outliers"
   ]
  },
  {
   "cell_type": "code",
   "execution_count": 17,
   "id": "203d939a",
   "metadata": {},
   "outputs": [
    {
     "data": {
      "text/plain": [
       "LYLTY_CARD_NBR      264836\n",
       "LIFESTAGE           264836\n",
       "PREMIUM_CUSTOMER    264836\n",
       "DATE                264836\n",
       "STORE_NBR           264836\n",
       "TXN_ID              264836\n",
       "PROD_NBR            264836\n",
       "PROD_NAME           264836\n",
       "Weight              264836\n",
       "PROD_QTY            264836\n",
       "TOT_SALES           264836\n",
       "dtype: int64"
      ]
     },
     "execution_count": 17,
     "metadata": {},
     "output_type": "execute_result"
    }
   ],
   "source": [
    "final1=final.copy()\n",
    "final1.count()"
   ]
  },
  {
   "cell_type": "code",
   "execution_count": 18,
   "id": "450fc520",
   "metadata": {},
   "outputs": [
    {
     "data": {
      "text/html": [
       "<div>\n",
       "<style scoped>\n",
       "    .dataframe tbody tr th:only-of-type {\n",
       "        vertical-align: middle;\n",
       "    }\n",
       "\n",
       "    .dataframe tbody tr th {\n",
       "        vertical-align: top;\n",
       "    }\n",
       "\n",
       "    .dataframe thead th {\n",
       "        text-align: right;\n",
       "    }\n",
       "</style>\n",
       "<table border=\"1\" class=\"dataframe\">\n",
       "  <thead>\n",
       "    <tr style=\"text-align: right;\">\n",
       "      <th></th>\n",
       "      <th>LYLTY_CARD_NBR</th>\n",
       "      <th>LIFESTAGE</th>\n",
       "      <th>PREMIUM_CUSTOMER</th>\n",
       "      <th>DATE</th>\n",
       "      <th>STORE_NBR</th>\n",
       "      <th>TXN_ID</th>\n",
       "      <th>PROD_NBR</th>\n",
       "      <th>PROD_NAME</th>\n",
       "      <th>Weight</th>\n",
       "      <th>PROD_QTY</th>\n",
       "      <th>TOT_SALES</th>\n",
       "    </tr>\n",
       "  </thead>\n",
       "  <tbody>\n",
       "    <tr>\n",
       "      <th>221625</th>\n",
       "      <td>226000</td>\n",
       "      <td>OLDER FAMILIES</td>\n",
       "      <td>Premium</td>\n",
       "      <td>2018-08-19 00:00:00.0000000</td>\n",
       "      <td>226</td>\n",
       "      <td>226201</td>\n",
       "      <td>4</td>\n",
       "      <td>Dorito Corn Chp     Supreme 380g</td>\n",
       "      <td>380</td>\n",
       "      <td>200</td>\n",
       "      <td>650.0</td>\n",
       "    </tr>\n",
       "    <tr>\n",
       "      <th>221626</th>\n",
       "      <td>226000</td>\n",
       "      <td>OLDER FAMILIES</td>\n",
       "      <td>Premium</td>\n",
       "      <td>2019-05-20 00:00:00.0000000</td>\n",
       "      <td>226</td>\n",
       "      <td>226210</td>\n",
       "      <td>4</td>\n",
       "      <td>Dorito Corn Chp     Supreme 380g</td>\n",
       "      <td>380</td>\n",
       "      <td>200</td>\n",
       "      <td>650.0</td>\n",
       "    </tr>\n",
       "  </tbody>\n",
       "</table>\n",
       "</div>"
      ],
      "text/plain": [
       "        LYLTY_CARD_NBR       LIFESTAGE PREMIUM_CUSTOMER  \\\n",
       "221625          226000  OLDER FAMILIES          Premium   \n",
       "221626          226000  OLDER FAMILIES          Premium   \n",
       "\n",
       "                               DATE  STORE_NBR  TXN_ID  PROD_NBR  \\\n",
       "221625  2018-08-19 00:00:00.0000000        226  226201         4   \n",
       "221626  2019-05-20 00:00:00.0000000        226  226210         4   \n",
       "\n",
       "                               PROD_NAME  Weight  PROD_QTY  TOT_SALES  \n",
       "221625  Dorito Corn Chp     Supreme 380g     380       200      650.0  \n",
       "221626  Dorito Corn Chp     Supreme 380g     380       200      650.0  "
      ]
     },
     "execution_count": 18,
     "metadata": {},
     "output_type": "execute_result"
    }
   ],
   "source": [
    "final1[final1['TOT_SALES']>50]"
   ]
  },
  {
   "cell_type": "code",
   "execution_count": 19,
   "id": "eae09df5",
   "metadata": {},
   "outputs": [],
   "source": [
    "final1.drop(final1[final1['PROD_QTY'] ==200].index, inplace = True)"
   ]
  },
  {
   "cell_type": "code",
   "execution_count": 20,
   "id": "9a4e543f",
   "metadata": {},
   "outputs": [
    {
     "data": {
      "text/plain": [
       "LYLTY_CARD_NBR      264834\n",
       "LIFESTAGE           264834\n",
       "PREMIUM_CUSTOMER    264834\n",
       "DATE                264834\n",
       "STORE_NBR           264834\n",
       "TXN_ID              264834\n",
       "PROD_NBR            264834\n",
       "PROD_NAME           264834\n",
       "Weight              264834\n",
       "PROD_QTY            264834\n",
       "TOT_SALES           264834\n",
       "dtype: int64"
      ]
     },
     "execution_count": 20,
     "metadata": {},
     "output_type": "execute_result"
    }
   ],
   "source": [
    "final1.count()"
   ]
  },
  {
   "cell_type": "code",
   "execution_count": 21,
   "id": "8f61a8b5",
   "metadata": {},
   "outputs": [
    {
     "data": {
      "image/png": "[encoded data removed]",
      "text/plain": [
       "<Figure size 432x288 with 1 Axes>"
      ]
     },
     "metadata": {
      "needs_background": "light"
     },
     "output_type": "display_data"
    }
   ],
   "source": [
    "x=final1.Weight\n",
    "y=final1.TOT_SALES\n",
    "plt.scatter(x, y)\n",
    "plt.show()"
   ]
  },
  {
   "cell_type": "code",
   "execution_count": 22,
   "id": "5a03f2dd",
   "metadata": {},
   "outputs": [
    {
     "data": {
      "text/plain": [
       "(264834, 11)"
      ]
     },
     "execution_count": 22,
     "metadata": {},
     "output_type": "execute_result"
    }
   ],
   "source": [
    "final1.shape"
   ]
  },
  {
   "cell_type": "code",
   "execution_count": 23,
   "id": "2485b7dd",
   "metadata": {},
   "outputs": [
    {
     "data": {
      "text/html": [
       "<div>\n",
       "<style scoped>\n",
       "    .dataframe tbody tr th:only-of-type {\n",
       "        vertical-align: middle;\n",
       "    }\n",
       "\n",
       "    .dataframe tbody tr th {\n",
       "        vertical-align: top;\n",
       "    }\n",
       "\n",
       "    .dataframe thead th {\n",
       "        text-align: right;\n",
       "    }\n",
       "</style>\n",
       "<table border=\"1\" class=\"dataframe\">\n",
       "  <thead>\n",
       "    <tr style=\"text-align: right;\">\n",
       "      <th></th>\n",
       "      <th>LYLTY_CARD_NBR</th>\n",
       "      <th>LIFESTAGE</th>\n",
       "      <th>PREMIUM_CUSTOMER</th>\n",
       "      <th>DATE</th>\n",
       "      <th>STORE_NBR</th>\n",
       "      <th>TXN_ID</th>\n",
       "      <th>PROD_NBR</th>\n",
       "      <th>PROD_NAME</th>\n",
       "      <th>Weight</th>\n",
       "      <th>PROD_QTY</th>\n",
       "      <th>TOT_SALES</th>\n",
       "      <th>MONTH</th>\n",
       "    </tr>\n",
       "  </thead>\n",
       "  <tbody>\n",
       "    <tr>\n",
       "      <th>0</th>\n",
       "      <td>1000</td>\n",
       "      <td>YOUNG SINGLES/COUPLES</td>\n",
       "      <td>Premium</td>\n",
       "      <td>2018-10-17 00:00:00.0000000</td>\n",
       "      <td>1</td>\n",
       "      <td>1</td>\n",
       "      <td>5</td>\n",
       "      <td>Natural Chip        Compny SeaSalt175g</td>\n",
       "      <td>175</td>\n",
       "      <td>2</td>\n",
       "      <td>6.0</td>\n",
       "      <td>10</td>\n",
       "    </tr>\n",
       "    <tr>\n",
       "      <th>1</th>\n",
       "      <td>1002</td>\n",
       "      <td>YOUNG SINGLES/COUPLES</td>\n",
       "      <td>Mainstream</td>\n",
       "      <td>2018-09-16 00:00:00.0000000</td>\n",
       "      <td>1</td>\n",
       "      <td>2</td>\n",
       "      <td>58</td>\n",
       "      <td>Red Rock Deli Chikn&amp;Garlic Aioli 150g</td>\n",
       "      <td>150</td>\n",
       "      <td>1</td>\n",
       "      <td>2.7</td>\n",
       "      <td>9</td>\n",
       "    </tr>\n",
       "    <tr>\n",
       "      <th>2</th>\n",
       "      <td>1003</td>\n",
       "      <td>YOUNG FAMILIES</td>\n",
       "      <td>Budget</td>\n",
       "      <td>2019-03-07 00:00:00.0000000</td>\n",
       "      <td>1</td>\n",
       "      <td>3</td>\n",
       "      <td>52</td>\n",
       "      <td>Grain Waves Sour    Cream&amp;Chives 210G</td>\n",
       "      <td>210</td>\n",
       "      <td>1</td>\n",
       "      <td>3.6</td>\n",
       "      <td>3</td>\n",
       "    </tr>\n",
       "    <tr>\n",
       "      <th>3</th>\n",
       "      <td>1003</td>\n",
       "      <td>YOUNG FAMILIES</td>\n",
       "      <td>Budget</td>\n",
       "      <td>2019-03-08 00:00:00.0000000</td>\n",
       "      <td>1</td>\n",
       "      <td>4</td>\n",
       "      <td>106</td>\n",
       "      <td>Natural ChipCo      Hony Soy Chckn175g</td>\n",
       "      <td>175</td>\n",
       "      <td>1</td>\n",
       "      <td>3.0</td>\n",
       "      <td>3</td>\n",
       "    </tr>\n",
       "    <tr>\n",
       "      <th>4</th>\n",
       "      <td>1004</td>\n",
       "      <td>OLDER SINGLES/COUPLES</td>\n",
       "      <td>Mainstream</td>\n",
       "      <td>2018-11-02 00:00:00.0000000</td>\n",
       "      <td>1</td>\n",
       "      <td>5</td>\n",
       "      <td>96</td>\n",
       "      <td>WW Original Stacked Chips 160g</td>\n",
       "      <td>160</td>\n",
       "      <td>1</td>\n",
       "      <td>1.9</td>\n",
       "      <td>11</td>\n",
       "    </tr>\n",
       "  </tbody>\n",
       "</table>\n",
       "</div>"
      ],
      "text/plain": [
       "   LYLTY_CARD_NBR              LIFESTAGE PREMIUM_CUSTOMER  \\\n",
       "0            1000  YOUNG SINGLES/COUPLES          Premium   \n",
       "1            1002  YOUNG SINGLES/COUPLES       Mainstream   \n",
       "2            1003         YOUNG FAMILIES           Budget   \n",
       "3            1003         YOUNG FAMILIES           Budget   \n",
       "4            1004  OLDER SINGLES/COUPLES       Mainstream   \n",
       "\n",
       "                          DATE  STORE_NBR  TXN_ID  PROD_NBR  \\\n",
       "0  2018-10-17 00:00:00.0000000          1       1         5   \n",
       "1  2018-09-16 00:00:00.0000000          1       2        58   \n",
       "2  2019-03-07 00:00:00.0000000          1       3        52   \n",
       "3  2019-03-08 00:00:00.0000000          1       4       106   \n",
       "4  2018-11-02 00:00:00.0000000          1       5        96   \n",
       "\n",
       "                                PROD_NAME  Weight  PROD_QTY  TOT_SALES  MONTH  \n",
       "0  Natural Chip        Compny SeaSalt175g     175         2        6.0     10  \n",
       "1   Red Rock Deli Chikn&Garlic Aioli 150g     150         1        2.7      9  \n",
       "2   Grain Waves Sour    Cream&Chives 210G     210         1        3.6      3  \n",
       "3  Natural ChipCo      Hony Soy Chckn175g     175         1        3.0      3  \n",
       "4          WW Original Stacked Chips 160g     160         1        1.9     11  "
      ]
     },
     "execution_count": 23,
     "metadata": {},
     "output_type": "execute_result"
    }
   ],
   "source": [
    "final1['MONTH'] = pd.DatetimeIndex(final1['DATE']).month\n",
    "final1.head()"
   ]
  },
  {
   "cell_type": "code",
   "execution_count": 24,
   "id": "67e62b15",
   "metadata": {},
   "outputs": [
    {
     "data": {
      "text/html": [
       "<div>\n",
       "<style scoped>\n",
       "    .dataframe tbody tr th:only-of-type {\n",
       "        vertical-align: middle;\n",
       "    }\n",
       "\n",
       "    .dataframe tbody tr th {\n",
       "        vertical-align: top;\n",
       "    }\n",
       "\n",
       "    .dataframe thead th {\n",
       "        text-align: right;\n",
       "    }\n",
       "</style>\n",
       "<table border=\"1\" class=\"dataframe\">\n",
       "  <thead>\n",
       "    <tr style=\"text-align: right;\">\n",
       "      <th></th>\n",
       "      <th>LYLTY_CARD_NBR</th>\n",
       "      <th>LIFESTAGE</th>\n",
       "      <th>PREMIUM_CUSTOMER</th>\n",
       "      <th>DATE</th>\n",
       "      <th>STORE_NBR</th>\n",
       "      <th>TXN_ID</th>\n",
       "      <th>PROD_NBR</th>\n",
       "      <th>PROD_NAME</th>\n",
       "      <th>Weight</th>\n",
       "      <th>PROD_QTY</th>\n",
       "      <th>TOT_SALES</th>\n",
       "      <th>MONTH</th>\n",
       "    </tr>\n",
       "  </thead>\n",
       "  <tbody>\n",
       "    <tr>\n",
       "      <th>0</th>\n",
       "      <td>1000</td>\n",
       "      <td>YOUNG SINGLES/COUPLES</td>\n",
       "      <td>Premium</td>\n",
       "      <td>2018-10-17 00:00:00.0000000</td>\n",
       "      <td>1</td>\n",
       "      <td>1</td>\n",
       "      <td>5</td>\n",
       "      <td>Natural Chip        Compny SeaSalt175g</td>\n",
       "      <td>175</td>\n",
       "      <td>2</td>\n",
       "      <td>6.0</td>\n",
       "      <td>10</td>\n",
       "    </tr>\n",
       "    <tr>\n",
       "      <th>1</th>\n",
       "      <td>1002</td>\n",
       "      <td>YOUNG SINGLES/COUPLES</td>\n",
       "      <td>Mainstream</td>\n",
       "      <td>2018-09-16 00:00:00.0000000</td>\n",
       "      <td>1</td>\n",
       "      <td>2</td>\n",
       "      <td>58</td>\n",
       "      <td>Red Rock Deli Chikn&amp;Garlic Aioli 150g</td>\n",
       "      <td>150</td>\n",
       "      <td>1</td>\n",
       "      <td>2.7</td>\n",
       "      <td>9</td>\n",
       "    </tr>\n",
       "    <tr>\n",
       "      <th>4</th>\n",
       "      <td>1004</td>\n",
       "      <td>OLDER SINGLES/COUPLES</td>\n",
       "      <td>Mainstream</td>\n",
       "      <td>2018-11-02 00:00:00.0000000</td>\n",
       "      <td>1</td>\n",
       "      <td>5</td>\n",
       "      <td>96</td>\n",
       "      <td>WW Original Stacked Chips 160g</td>\n",
       "      <td>160</td>\n",
       "      <td>1</td>\n",
       "      <td>1.9</td>\n",
       "      <td>11</td>\n",
       "    </tr>\n",
       "    <tr>\n",
       "      <th>5</th>\n",
       "      <td>1005</td>\n",
       "      <td>MIDAGE SINGLES/COUPLES</td>\n",
       "      <td>Mainstream</td>\n",
       "      <td>2018-12-28 00:00:00.0000000</td>\n",
       "      <td>1</td>\n",
       "      <td>6</td>\n",
       "      <td>86</td>\n",
       "      <td>Cheetos Puffs 165g</td>\n",
       "      <td>165</td>\n",
       "      <td>1</td>\n",
       "      <td>2.8</td>\n",
       "      <td>12</td>\n",
       "    </tr>\n",
       "    <tr>\n",
       "      <th>6</th>\n",
       "      <td>1007</td>\n",
       "      <td>YOUNG SINGLES/COUPLES</td>\n",
       "      <td>Budget</td>\n",
       "      <td>2018-12-04 00:00:00.0000000</td>\n",
       "      <td>1</td>\n",
       "      <td>7</td>\n",
       "      <td>49</td>\n",
       "      <td>Infuzions SourCream&amp;Herbs Veg Strws 110g</td>\n",
       "      <td>110</td>\n",
       "      <td>1</td>\n",
       "      <td>3.8</td>\n",
       "      <td>12</td>\n",
       "    </tr>\n",
       "    <tr>\n",
       "      <th>...</th>\n",
       "      <td>...</td>\n",
       "      <td>...</td>\n",
       "      <td>...</td>\n",
       "      <td>...</td>\n",
       "      <td>...</td>\n",
       "      <td>...</td>\n",
       "      <td>...</td>\n",
       "      <td>...</td>\n",
       "      <td>...</td>\n",
       "      <td>...</td>\n",
       "      <td>...</td>\n",
       "      <td>...</td>\n",
       "    </tr>\n",
       "    <tr>\n",
       "      <th>264831</th>\n",
       "      <td>2370701</td>\n",
       "      <td>YOUNG FAMILIES</td>\n",
       "      <td>Mainstream</td>\n",
       "      <td>2018-12-08 00:00:00.0000000</td>\n",
       "      <td>88</td>\n",
       "      <td>240378</td>\n",
       "      <td>24</td>\n",
       "      <td>Grain Waves         Sweet Chilli 210g</td>\n",
       "      <td>210</td>\n",
       "      <td>2</td>\n",
       "      <td>7.2</td>\n",
       "      <td>12</td>\n",
       "    </tr>\n",
       "    <tr>\n",
       "      <th>264832</th>\n",
       "      <td>2370751</td>\n",
       "      <td>YOUNG FAMILIES</td>\n",
       "      <td>Premium</td>\n",
       "      <td>2018-10-01 00:00:00.0000000</td>\n",
       "      <td>88</td>\n",
       "      <td>240394</td>\n",
       "      <td>60</td>\n",
       "      <td>Kettle Tortilla ChpsFeta&amp;Garlic 150g</td>\n",
       "      <td>150</td>\n",
       "      <td>2</td>\n",
       "      <td>9.2</td>\n",
       "      <td>10</td>\n",
       "    </tr>\n",
       "    <tr>\n",
       "      <th>264833</th>\n",
       "      <td>2370961</td>\n",
       "      <td>OLDER FAMILIES</td>\n",
       "      <td>Budget</td>\n",
       "      <td>2018-10-24 00:00:00.0000000</td>\n",
       "      <td>88</td>\n",
       "      <td>240480</td>\n",
       "      <td>70</td>\n",
       "      <td>Tyrrells Crisps     Lightly Salted 165g</td>\n",
       "      <td>165</td>\n",
       "      <td>2</td>\n",
       "      <td>8.4</td>\n",
       "      <td>10</td>\n",
       "    </tr>\n",
       "    <tr>\n",
       "      <th>264834</th>\n",
       "      <td>2370961</td>\n",
       "      <td>OLDER FAMILIES</td>\n",
       "      <td>Budget</td>\n",
       "      <td>2018-10-27 00:00:00.0000000</td>\n",
       "      <td>88</td>\n",
       "      <td>240481</td>\n",
       "      <td>65</td>\n",
       "      <td>Old El Paso Salsa   Dip Chnky Tom Ht300g</td>\n",
       "      <td>300</td>\n",
       "      <td>2</td>\n",
       "      <td>10.2</td>\n",
       "      <td>10</td>\n",
       "    </tr>\n",
       "    <tr>\n",
       "      <th>264835</th>\n",
       "      <td>2373711</td>\n",
       "      <td>YOUNG SINGLES/COUPLES</td>\n",
       "      <td>Mainstream</td>\n",
       "      <td>2018-12-14 00:00:00.0000000</td>\n",
       "      <td>88</td>\n",
       "      <td>241815</td>\n",
       "      <td>16</td>\n",
       "      <td>Smiths Crinkle Chips Salt &amp; Vinegar 330g</td>\n",
       "      <td>330</td>\n",
       "      <td>2</td>\n",
       "      <td>11.4</td>\n",
       "      <td>12</td>\n",
       "    </tr>\n",
       "  </tbody>\n",
       "</table>\n",
       "<p>200071 rows × 12 columns</p>\n",
       "</div>"
      ],
      "text/plain": [
       "        LYLTY_CARD_NBR               LIFESTAGE PREMIUM_CUSTOMER  \\\n",
       "0                 1000   YOUNG SINGLES/COUPLES          Premium   \n",
       "1                 1002   YOUNG SINGLES/COUPLES       Mainstream   \n",
       "4                 1004   OLDER SINGLES/COUPLES       Mainstream   \n",
       "5                 1005  MIDAGE SINGLES/COUPLES       Mainstream   \n",
       "6                 1007   YOUNG SINGLES/COUPLES           Budget   \n",
       "...                ...                     ...              ...   \n",
       "264831         2370701          YOUNG FAMILIES       Mainstream   \n",
       "264832         2370751          YOUNG FAMILIES          Premium   \n",
       "264833         2370961          OLDER FAMILIES           Budget   \n",
       "264834         2370961          OLDER FAMILIES           Budget   \n",
       "264835         2373711   YOUNG SINGLES/COUPLES       Mainstream   \n",
       "\n",
       "                               DATE  STORE_NBR  TXN_ID  PROD_NBR  \\\n",
       "0       2018-10-17 00:00:00.0000000          1       1         5   \n",
       "1       2018-09-16 00:00:00.0000000          1       2        58   \n",
       "4       2018-11-02 00:00:00.0000000          1       5        96   \n",
       "5       2018-12-28 00:00:00.0000000          1       6        86   \n",
       "6       2018-12-04 00:00:00.0000000          1       7        49   \n",
       "...                             ...        ...     ...       ...   \n",
       "264831  2018-12-08 00:00:00.0000000         88  240378        24   \n",
       "264832  2018-10-01 00:00:00.0000000         88  240394        60   \n",
       "264833  2018-10-24 00:00:00.0000000         88  240480        70   \n",
       "264834  2018-10-27 00:00:00.0000000         88  240481        65   \n",
       "264835  2018-12-14 00:00:00.0000000         88  241815        16   \n",
       "\n",
       "                                       PROD_NAME  Weight  PROD_QTY  TOT_SALES  \\\n",
       "0         Natural Chip        Compny SeaSalt175g     175         2        6.0   \n",
       "1          Red Rock Deli Chikn&Garlic Aioli 150g     150         1        2.7   \n",
       "4                 WW Original Stacked Chips 160g     160         1        1.9   \n",
       "5                             Cheetos Puffs 165g     165         1        2.8   \n",
       "6       Infuzions SourCream&Herbs Veg Strws 110g     110         1        3.8   \n",
       "...                                          ...     ...       ...        ...   \n",
       "264831     Grain Waves         Sweet Chilli 210g     210         2        7.2   \n",
       "264832      Kettle Tortilla ChpsFeta&Garlic 150g     150         2        9.2   \n",
       "264833   Tyrrells Crisps     Lightly Salted 165g     165         2        8.4   \n",
       "264834  Old El Paso Salsa   Dip Chnky Tom Ht300g     300         2       10.2   \n",
       "264835  Smiths Crinkle Chips Salt & Vinegar 330g     330         2       11.4   \n",
       "\n",
       "        MONTH  \n",
       "0          10  \n",
       "1           9  \n",
       "4          11  \n",
       "5          12  \n",
       "6          12  \n",
       "...       ...  \n",
       "264831     12  \n",
       "264832     10  \n",
       "264833     10  \n",
       "264834     10  \n",
       "264835     12  \n",
       "\n",
       "[200071 rows x 12 columns]"
      ]
     },
     "execution_count": 24,
     "metadata": {},
     "output_type": "execute_result"
    }
   ],
   "source": [
    "TC1=final1.loc[(final1['DATE']<'2019-02-01') | (final1['DATE']>='2019-05-01')]\n",
    "TC1"
   ]
  },
  {
   "cell_type": "code",
   "execution_count": 25,
   "id": "e76e1147",
   "metadata": {},
   "outputs": [
    {
     "data": {
      "text/html": [
       "<div>\n",
       "<style scoped>\n",
       "    .dataframe tbody tr th:only-of-type {\n",
       "        vertical-align: middle;\n",
       "    }\n",
       "\n",
       "    .dataframe tbody tr th {\n",
       "        vertical-align: top;\n",
       "    }\n",
       "\n",
       "    .dataframe thead th {\n",
       "        text-align: right;\n",
       "    }\n",
       "</style>\n",
       "<table border=\"1\" class=\"dataframe\">\n",
       "  <thead>\n",
       "    <tr style=\"text-align: right;\">\n",
       "      <th></th>\n",
       "      <th>LYLTY_CARD_NBR</th>\n",
       "      <th>LIFESTAGE</th>\n",
       "      <th>PREMIUM_CUSTOMER</th>\n",
       "      <th>DATE</th>\n",
       "      <th>STORE_NBR</th>\n",
       "      <th>TXN_ID</th>\n",
       "      <th>PROD_NBR</th>\n",
       "      <th>PROD_NAME</th>\n",
       "      <th>Weight</th>\n",
       "      <th>PROD_QTY</th>\n",
       "      <th>TOT_SALES</th>\n",
       "      <th>MONTH</th>\n",
       "    </tr>\n",
       "  </thead>\n",
       "  <tbody>\n",
       "    <tr>\n",
       "      <th>2</th>\n",
       "      <td>1003</td>\n",
       "      <td>YOUNG FAMILIES</td>\n",
       "      <td>Budget</td>\n",
       "      <td>2019-03-07 00:00:00.0000000</td>\n",
       "      <td>1</td>\n",
       "      <td>3</td>\n",
       "      <td>52</td>\n",
       "      <td>Grain Waves Sour    Cream&amp;Chives 210G</td>\n",
       "      <td>210</td>\n",
       "      <td>1</td>\n",
       "      <td>3.6</td>\n",
       "      <td>3</td>\n",
       "    </tr>\n",
       "    <tr>\n",
       "      <th>3</th>\n",
       "      <td>1003</td>\n",
       "      <td>YOUNG FAMILIES</td>\n",
       "      <td>Budget</td>\n",
       "      <td>2019-03-08 00:00:00.0000000</td>\n",
       "      <td>1</td>\n",
       "      <td>4</td>\n",
       "      <td>106</td>\n",
       "      <td>Natural ChipCo      Hony Soy Chckn175g</td>\n",
       "      <td>175</td>\n",
       "      <td>1</td>\n",
       "      <td>3.0</td>\n",
       "      <td>3</td>\n",
       "    </tr>\n",
       "    <tr>\n",
       "      <th>15</th>\n",
       "      <td>1012</td>\n",
       "      <td>OLDER FAMILIES</td>\n",
       "      <td>Mainstream</td>\n",
       "      <td>2019-03-15 00:00:00.0000000</td>\n",
       "      <td>1</td>\n",
       "      <td>16</td>\n",
       "      <td>20</td>\n",
       "      <td>Doritos Cheese      Supreme 330g</td>\n",
       "      <td>330</td>\n",
       "      <td>1</td>\n",
       "      <td>5.7</td>\n",
       "      <td>3</td>\n",
       "    </tr>\n",
       "    <tr>\n",
       "      <th>17</th>\n",
       "      <td>1013</td>\n",
       "      <td>RETIREES</td>\n",
       "      <td>Budget</td>\n",
       "      <td>2019-03-04 00:00:00.0000000</td>\n",
       "      <td>1</td>\n",
       "      <td>18</td>\n",
       "      <td>93</td>\n",
       "      <td>Doritos Corn Chip Southern Chicken 150g</td>\n",
       "      <td>150</td>\n",
       "      <td>1</td>\n",
       "      <td>3.9</td>\n",
       "      <td>3</td>\n",
       "    </tr>\n",
       "    <tr>\n",
       "      <th>18</th>\n",
       "      <td>1013</td>\n",
       "      <td>RETIREES</td>\n",
       "      <td>Budget</td>\n",
       "      <td>2019-03-07 00:00:00.0000000</td>\n",
       "      <td>1</td>\n",
       "      <td>19</td>\n",
       "      <td>91</td>\n",
       "      <td>CCs Tasty Cheese    175g</td>\n",
       "      <td>175</td>\n",
       "      <td>2</td>\n",
       "      <td>4.2</td>\n",
       "      <td>3</td>\n",
       "    </tr>\n",
       "    <tr>\n",
       "      <th>...</th>\n",
       "      <td>...</td>\n",
       "      <td>...</td>\n",
       "      <td>...</td>\n",
       "      <td>...</td>\n",
       "      <td>...</td>\n",
       "      <td>...</td>\n",
       "      <td>...</td>\n",
       "      <td>...</td>\n",
       "      <td>...</td>\n",
       "      <td>...</td>\n",
       "      <td>...</td>\n",
       "      <td>...</td>\n",
       "    </tr>\n",
       "    <tr>\n",
       "      <th>264765</th>\n",
       "      <td>272374</td>\n",
       "      <td>OLDER SINGLES/COUPLES</td>\n",
       "      <td>Premium</td>\n",
       "      <td>2019-04-24 00:00:00.0000000</td>\n",
       "      <td>272</td>\n",
       "      <td>270182</td>\n",
       "      <td>26</td>\n",
       "      <td>Pringles Sweet&amp;Spcy BBQ 134g</td>\n",
       "      <td>134</td>\n",
       "      <td>2</td>\n",
       "      <td>7.4</td>\n",
       "      <td>4</td>\n",
       "    </tr>\n",
       "    <tr>\n",
       "      <th>264773</th>\n",
       "      <td>272381</td>\n",
       "      <td>OLDER SINGLES/COUPLES</td>\n",
       "      <td>Budget</td>\n",
       "      <td>2019-02-08 00:00:00.0000000</td>\n",
       "      <td>272</td>\n",
       "      <td>270190</td>\n",
       "      <td>30</td>\n",
       "      <td>Doritos Corn Chips  Cheese Supreme 170g</td>\n",
       "      <td>170</td>\n",
       "      <td>2</td>\n",
       "      <td>8.8</td>\n",
       "      <td>2</td>\n",
       "    </tr>\n",
       "    <tr>\n",
       "      <th>264777</th>\n",
       "      <td>272382</td>\n",
       "      <td>OLDER SINGLES/COUPLES</td>\n",
       "      <td>Premium</td>\n",
       "      <td>2019-02-18 00:00:00.0000000</td>\n",
       "      <td>272</td>\n",
       "      <td>270194</td>\n",
       "      <td>32</td>\n",
       "      <td>Kettle Sea Salt     And Vinegar 175g</td>\n",
       "      <td>175</td>\n",
       "      <td>2</td>\n",
       "      <td>10.8</td>\n",
       "      <td>2</td>\n",
       "    </tr>\n",
       "    <tr>\n",
       "      <th>264785</th>\n",
       "      <td>272389</td>\n",
       "      <td>YOUNG SINGLES/COUPLES</td>\n",
       "      <td>Mainstream</td>\n",
       "      <td>2019-04-01 00:00:00.0000000</td>\n",
       "      <td>272</td>\n",
       "      <td>270202</td>\n",
       "      <td>62</td>\n",
       "      <td>Pringles Mystery    Flavour 134g</td>\n",
       "      <td>134</td>\n",
       "      <td>2</td>\n",
       "      <td>7.4</td>\n",
       "      <td>4</td>\n",
       "    </tr>\n",
       "    <tr>\n",
       "      <th>264791</th>\n",
       "      <td>272392</td>\n",
       "      <td>MIDAGE SINGLES/COUPLES</td>\n",
       "      <td>Premium</td>\n",
       "      <td>2019-02-17 00:00:00.0000000</td>\n",
       "      <td>272</td>\n",
       "      <td>270209</td>\n",
       "      <td>78</td>\n",
       "      <td>Thins Chips Salt &amp;  Vinegar 175g</td>\n",
       "      <td>175</td>\n",
       "      <td>2</td>\n",
       "      <td>6.6</td>\n",
       "      <td>2</td>\n",
       "    </tr>\n",
       "  </tbody>\n",
       "</table>\n",
       "<p>64763 rows × 12 columns</p>\n",
       "</div>"
      ],
      "text/plain": [
       "        LYLTY_CARD_NBR               LIFESTAGE PREMIUM_CUSTOMER  \\\n",
       "2                 1003          YOUNG FAMILIES           Budget   \n",
       "3                 1003          YOUNG FAMILIES           Budget   \n",
       "15                1012          OLDER FAMILIES       Mainstream   \n",
       "17                1013                RETIREES           Budget   \n",
       "18                1013                RETIREES           Budget   \n",
       "...                ...                     ...              ...   \n",
       "264765          272374   OLDER SINGLES/COUPLES          Premium   \n",
       "264773          272381   OLDER SINGLES/COUPLES           Budget   \n",
       "264777          272382   OLDER SINGLES/COUPLES          Premium   \n",
       "264785          272389   YOUNG SINGLES/COUPLES       Mainstream   \n",
       "264791          272392  MIDAGE SINGLES/COUPLES          Premium   \n",
       "\n",
       "                               DATE  STORE_NBR  TXN_ID  PROD_NBR  \\\n",
       "2       2019-03-07 00:00:00.0000000          1       3        52   \n",
       "3       2019-03-08 00:00:00.0000000          1       4       106   \n",
       "15      2019-03-15 00:00:00.0000000          1      16        20   \n",
       "17      2019-03-04 00:00:00.0000000          1      18        93   \n",
       "18      2019-03-07 00:00:00.0000000          1      19        91   \n",
       "...                             ...        ...     ...       ...   \n",
       "264765  2019-04-24 00:00:00.0000000        272  270182        26   \n",
       "264773  2019-02-08 00:00:00.0000000        272  270190        30   \n",
       "264777  2019-02-18 00:00:00.0000000        272  270194        32   \n",
       "264785  2019-04-01 00:00:00.0000000        272  270202        62   \n",
       "264791  2019-02-17 00:00:00.0000000        272  270209        78   \n",
       "\n",
       "                                      PROD_NAME  Weight  PROD_QTY  TOT_SALES  \\\n",
       "2         Grain Waves Sour    Cream&Chives 210G     210         1        3.6   \n",
       "3        Natural ChipCo      Hony Soy Chckn175g     175         1        3.0   \n",
       "15             Doritos Cheese      Supreme 330g     330         1        5.7   \n",
       "17      Doritos Corn Chip Southern Chicken 150g     150         1        3.9   \n",
       "18                     CCs Tasty Cheese    175g     175         2        4.2   \n",
       "...                                         ...     ...       ...        ...   \n",
       "264765             Pringles Sweet&Spcy BBQ 134g     134         2        7.4   \n",
       "264773  Doritos Corn Chips  Cheese Supreme 170g     170         2        8.8   \n",
       "264777     Kettle Sea Salt     And Vinegar 175g     175         2       10.8   \n",
       "264785         Pringles Mystery    Flavour 134g     134         2        7.4   \n",
       "264791         Thins Chips Salt &  Vinegar 175g     175         2        6.6   \n",
       "\n",
       "        MONTH  \n",
       "2           3  \n",
       "3           3  \n",
       "15          3  \n",
       "17          3  \n",
       "18          3  \n",
       "...       ...  \n",
       "264765      4  \n",
       "264773      2  \n",
       "264777      2  \n",
       "264785      4  \n",
       "264791      2  \n",
       "\n",
       "[64763 rows x 12 columns]"
      ]
     },
     "execution_count": 25,
     "metadata": {},
     "output_type": "execute_result"
    }
   ],
   "source": [
    "TC2=final1.loc[(final1['DATE']>='2019-02-01') & (final1['DATE']<'2019-05-01')]\n",
    "TC2"
   ]
  },
  {
   "cell_type": "markdown",
   "id": "a4234686",
   "metadata": {},
   "source": [
    "# Finding the Correlations"
   ]
  },
  {
   "cell_type": "code",
   "execution_count": 26,
   "id": "1d4361a2",
   "metadata": {},
   "outputs": [
    {
     "name": "stdout",
     "output_type": "stream",
     "text": [
      "[11, 31, 44, 76, 85, 117, 193, 206, 211, 218, 252]\n",
      "11\n"
     ]
    }
   ],
   "source": [
    "#finding the stores with less then 9 months of data \n",
    "list=[]\n",
    "table1=TC1.groupby(['STORE_NBR','MONTH']).agg({'MONTH':'nunique'})\n",
    "out=table1[['MONTH']]\n",
    "for i in out.groupby(level=0):\n",
    "    #print(i)\n",
    "    a=pd.DataFrame(i[1])\n",
    "    if len(a.MONTH)<9:\n",
    "        b=a.index.unique(0)\n",
    "        list.append(b[0])\n",
    "print(list)\n",
    "print(len(list))"
   ]
  },
  {
   "cell_type": "code",
   "execution_count": 27,
   "id": "14160407",
   "metadata": {},
   "outputs": [
    {
     "data": {
      "text/html": [
       "<div>\n",
       "<style scoped>\n",
       "    .dataframe tbody tr th:only-of-type {\n",
       "        vertical-align: middle;\n",
       "    }\n",
       "\n",
       "    .dataframe tbody tr th {\n",
       "        vertical-align: top;\n",
       "    }\n",
       "\n",
       "    .dataframe thead th {\n",
       "        text-align: right;\n",
       "    }\n",
       "</style>\n",
       "<table border=\"1\" class=\"dataframe\">\n",
       "  <thead>\n",
       "    <tr style=\"text-align: right;\">\n",
       "      <th></th>\n",
       "      <th></th>\n",
       "      <th>TOT_SALES</th>\n",
       "      <th>LYLTY_CARD_NBR</th>\n",
       "      <th>TXN_ID</th>\n",
       "    </tr>\n",
       "    <tr>\n",
       "      <th>STORE_NBR</th>\n",
       "      <th>MONTH</th>\n",
       "      <th></th>\n",
       "      <th></th>\n",
       "      <th></th>\n",
       "    </tr>\n",
       "  </thead>\n",
       "  <tbody>\n",
       "    <tr>\n",
       "      <th rowspan=\"3\" valign=\"top\">1</th>\n",
       "      <th>2</th>\n",
       "      <td>225.4</td>\n",
       "      <td>52</td>\n",
       "      <td>55</td>\n",
       "    </tr>\n",
       "    <tr>\n",
       "      <th>3</th>\n",
       "      <td>192.9</td>\n",
       "      <td>45</td>\n",
       "      <td>49</td>\n",
       "    </tr>\n",
       "    <tr>\n",
       "      <th>4</th>\n",
       "      <td>192.9</td>\n",
       "      <td>42</td>\n",
       "      <td>43</td>\n",
       "    </tr>\n",
       "    <tr>\n",
       "      <th rowspan=\"2\" valign=\"top\">2</th>\n",
       "      <th>2</th>\n",
       "      <td>139.4</td>\n",
       "      <td>29</td>\n",
       "      <td>32</td>\n",
       "    </tr>\n",
       "    <tr>\n",
       "      <th>3</th>\n",
       "      <td>192.1</td>\n",
       "      <td>43</td>\n",
       "      <td>46</td>\n",
       "    </tr>\n",
       "    <tr>\n",
       "      <th>...</th>\n",
       "      <th>...</th>\n",
       "      <td>...</td>\n",
       "      <td>...</td>\n",
       "      <td>...</td>\n",
       "    </tr>\n",
       "    <tr>\n",
       "      <th rowspan=\"2\" valign=\"top\">271</th>\n",
       "      <th>3</th>\n",
       "      <td>735.8</td>\n",
       "      <td>79</td>\n",
       "      <td>101</td>\n",
       "    </tr>\n",
       "    <tr>\n",
       "      <th>4</th>\n",
       "      <td>774.6</td>\n",
       "      <td>87</td>\n",
       "      <td>109</td>\n",
       "    </tr>\n",
       "    <tr>\n",
       "      <th rowspan=\"3\" valign=\"top\">272</th>\n",
       "      <th>2</th>\n",
       "      <td>395.5</td>\n",
       "      <td>45</td>\n",
       "      <td>48</td>\n",
       "    </tr>\n",
       "    <tr>\n",
       "      <th>3</th>\n",
       "      <td>442.3</td>\n",
       "      <td>50</td>\n",
       "      <td>53</td>\n",
       "    </tr>\n",
       "    <tr>\n",
       "      <th>4</th>\n",
       "      <td>445.1</td>\n",
       "      <td>54</td>\n",
       "      <td>56</td>\n",
       "    </tr>\n",
       "  </tbody>\n",
       "</table>\n",
       "<p>794 rows × 3 columns</p>\n",
       "</div>"
      ],
      "text/plain": [
       "                 TOT_SALES  LYLTY_CARD_NBR  TXN_ID\n",
       "STORE_NBR MONTH                                   \n",
       "1         2          225.4              52      55\n",
       "          3          192.9              45      49\n",
       "          4          192.9              42      43\n",
       "2         2          139.4              29      32\n",
       "          3          192.1              43      46\n",
       "...                    ...             ...     ...\n",
       "271       3          735.8              79     101\n",
       "          4          774.6              87     109\n",
       "272       2          395.5              45      48\n",
       "          3          442.3              50      53\n",
       "          4          445.1              54      56\n",
       "\n",
       "[794 rows x 3 columns]"
      ]
     },
     "execution_count": 27,
     "metadata": {},
     "output_type": "execute_result"
    }
   ],
   "source": [
    "#grouping the store values during the Trail Period\n",
    "table=TC2.groupby(['STORE_NBR','MONTH']).agg({'TOT_SALES':'sum','LYLTY_CARD_NBR':'nunique','TXN_ID':'count'})\n",
    "TG_month=table[['TOT_SALES','LYLTY_CARD_NBR','TXN_ID']]\n",
    "TG_month"
   ]
  },
  {
   "cell_type": "code",
   "execution_count": 28,
   "id": "edb3a2ca",
   "metadata": {},
   "outputs": [
    {
     "data": {
      "text/html": [
       "<div>\n",
       "<style scoped>\n",
       "    .dataframe tbody tr th:only-of-type {\n",
       "        vertical-align: middle;\n",
       "    }\n",
       "\n",
       "    .dataframe tbody tr th {\n",
       "        vertical-align: top;\n",
       "    }\n",
       "\n",
       "    .dataframe thead th {\n",
       "        text-align: right;\n",
       "    }\n",
       "</style>\n",
       "<table border=\"1\" class=\"dataframe\">\n",
       "  <thead>\n",
       "    <tr style=\"text-align: right;\">\n",
       "      <th></th>\n",
       "      <th></th>\n",
       "      <th>TOT_SALES</th>\n",
       "      <th>LYLTY_CARD_NBR</th>\n",
       "      <th>TXN_ID</th>\n",
       "    </tr>\n",
       "    <tr>\n",
       "      <th>STORE_NBR</th>\n",
       "      <th>MONTH</th>\n",
       "      <th></th>\n",
       "      <th></th>\n",
       "      <th></th>\n",
       "    </tr>\n",
       "  </thead>\n",
       "  <tbody>\n",
       "    <tr>\n",
       "      <th rowspan=\"5\" valign=\"top\">1</th>\n",
       "      <th>1</th>\n",
       "      <td>154.80</td>\n",
       "      <td>35</td>\n",
       "      <td>36</td>\n",
       "    </tr>\n",
       "    <tr>\n",
       "      <th>5</th>\n",
       "      <td>221.40</td>\n",
       "      <td>46</td>\n",
       "      <td>51</td>\n",
       "    </tr>\n",
       "    <tr>\n",
       "      <th>6</th>\n",
       "      <td>174.10</td>\n",
       "      <td>42</td>\n",
       "      <td>43</td>\n",
       "    </tr>\n",
       "    <tr>\n",
       "      <th>7</th>\n",
       "      <td>206.90</td>\n",
       "      <td>49</td>\n",
       "      <td>52</td>\n",
       "    </tr>\n",
       "    <tr>\n",
       "      <th>8</th>\n",
       "      <td>176.10</td>\n",
       "      <td>42</td>\n",
       "      <td>43</td>\n",
       "    </tr>\n",
       "    <tr>\n",
       "      <th>...</th>\n",
       "      <th>...</th>\n",
       "      <td>...</td>\n",
       "      <td>...</td>\n",
       "      <td>...</td>\n",
       "    </tr>\n",
       "    <tr>\n",
       "      <th rowspan=\"5\" valign=\"top\">272</th>\n",
       "      <th>8</th>\n",
       "      <td>372.85</td>\n",
       "      <td>44</td>\n",
       "      <td>48</td>\n",
       "    </tr>\n",
       "    <tr>\n",
       "      <th>9</th>\n",
       "      <td>304.70</td>\n",
       "      <td>32</td>\n",
       "      <td>36</td>\n",
       "    </tr>\n",
       "    <tr>\n",
       "      <th>10</th>\n",
       "      <td>430.60</td>\n",
       "      <td>44</td>\n",
       "      <td>51</td>\n",
       "    </tr>\n",
       "    <tr>\n",
       "      <th>11</th>\n",
       "      <td>376.20</td>\n",
       "      <td>41</td>\n",
       "      <td>45</td>\n",
       "    </tr>\n",
       "    <tr>\n",
       "      <th>12</th>\n",
       "      <td>403.90</td>\n",
       "      <td>47</td>\n",
       "      <td>47</td>\n",
       "    </tr>\n",
       "  </tbody>\n",
       "</table>\n",
       "<p>2375 rows × 3 columns</p>\n",
       "</div>"
      ],
      "text/plain": [
       "                 TOT_SALES  LYLTY_CARD_NBR  TXN_ID\n",
       "STORE_NBR MONTH                                   \n",
       "1         1         154.80              35      36\n",
       "          5         221.40              46      51\n",
       "          6         174.10              42      43\n",
       "          7         206.90              49      52\n",
       "          8         176.10              42      43\n",
       "...                    ...             ...     ...\n",
       "272       8         372.85              44      48\n",
       "          9         304.70              32      36\n",
       "          10        430.60              44      51\n",
       "          11        376.20              41      45\n",
       "          12        403.90              47      47\n",
       "\n",
       "[2375 rows x 3 columns]"
      ]
     },
     "execution_count": 28,
     "metadata": {},
     "output_type": "execute_result"
    }
   ],
   "source": [
    "#grouping the store values Pre-Trail Period\n",
    "table=TC1.groupby(['STORE_NBR','MONTH']).agg({'TOT_SALES':'sum','LYLTY_CARD_NBR':'nunique','TXN_ID':'count'})\n",
    "G_month=table[['TOT_SALES','LYLTY_CARD_NBR','TXN_ID']]\n",
    "G_month"
   ]
  },
  {
   "cell_type": "code",
   "execution_count": 29,
   "id": "3c7587c0",
   "metadata": {},
   "outputs": [
    {
     "name": "stdout",
     "output_type": "stream",
     "text": [
      "       TOT_SALES  LYLTY_CARD_NBR  TXN_ID\n",
      "MONTH                                   \n",
      "1          204.4              35      39\n",
      "5          299.3              55      56\n",
      "6          264.7              41      42\n",
      "7          296.8              51      55\n",
      "8          255.5              47      48\n",
      "9          225.2              42      44\n",
      "10         204.5              37      38\n",
      "11         245.3              41      44\n",
      "12         267.3              46      49\n"
     ]
    }
   ],
   "source": [
    "#Trail store 1\n",
    "Tstore1=G_month.loc[77]\n",
    "print(Tstore1)"
   ]
  },
  {
   "cell_type": "code",
   "execution_count": 30,
   "id": "21674124",
   "metadata": {},
   "outputs": [
    {
     "name": "stdout",
     "output_type": "stream",
     "text": [
      "       TOT_SALES  LYLTY_CARD_NBR  TXN_ID\n",
      "MONTH                                   \n",
      "1         841.40              94     130\n",
      "5         889.30             104     129\n",
      "6         838.00              98     119\n",
      "7         892.20              99     126\n",
      "8         764.05              94     112\n",
      "9         914.60             103     129\n",
      "10        948.40             109     138\n",
      "11        918.00             100     127\n",
      "12        841.20              98     120\n"
     ]
    }
   ],
   "source": [
    "#Trail store 2\n",
    "Tstore2=G_month.loc[86]\n",
    "print(Tstore2)"
   ]
  },
  {
   "cell_type": "code",
   "execution_count": 31,
   "id": "ee7a005d",
   "metadata": {},
   "outputs": [
    {
     "name": "stdout",
     "output_type": "stream",
     "text": [
      "       TOT_SALES  LYLTY_CARD_NBR  TXN_ID\n",
      "MONTH                                   \n",
      "1        1266.40             117     146\n",
      "5        1308.25             128     155\n",
      "6        1354.60             121     150\n",
      "7        1310.00             129     153\n",
      "8        1323.80             131     160\n",
      "9        1423.00             124     159\n",
      "10       1352.40             123     158\n",
      "11       1382.80             130     157\n",
      "12       1325.20             126     149\n"
     ]
    }
   ],
   "source": [
    "#Trail store 3\n",
    "Tstore3=G_month.loc[88]\n",
    "print(Tstore3)"
   ]
  },
  {
   "cell_type": "code",
   "execution_count": 32,
   "id": "6d44bfda",
   "metadata": {},
   "outputs": [],
   "source": [
    "G_plot=G_month.copy()\n",
    "G_month1=G_month.copy()"
   ]
  },
  {
   "cell_type": "code",
   "execution_count": 33,
   "id": "9642d336",
   "metadata": {},
   "outputs": [
    {
     "data": {
      "text/html": [
       "<div>\n",
       "<style scoped>\n",
       "    .dataframe tbody tr th:only-of-type {\n",
       "        vertical-align: middle;\n",
       "    }\n",
       "\n",
       "    .dataframe tbody tr th {\n",
       "        vertical-align: top;\n",
       "    }\n",
       "\n",
       "    .dataframe thead th {\n",
       "        text-align: right;\n",
       "    }\n",
       "</style>\n",
       "<table border=\"1\" class=\"dataframe\">\n",
       "  <thead>\n",
       "    <tr style=\"text-align: right;\">\n",
       "      <th></th>\n",
       "      <th></th>\n",
       "      <th>TOT_SALES</th>\n",
       "      <th>LYLTY_CARD_NBR</th>\n",
       "      <th>TXN_ID</th>\n",
       "    </tr>\n",
       "    <tr>\n",
       "      <th>STORE_NBR</th>\n",
       "      <th>MONTH</th>\n",
       "      <th></th>\n",
       "      <th></th>\n",
       "      <th></th>\n",
       "    </tr>\n",
       "  </thead>\n",
       "  <tbody>\n",
       "    <tr>\n",
       "      <th rowspan=\"5\" valign=\"top\">1</th>\n",
       "      <th>1</th>\n",
       "      <td>154.80</td>\n",
       "      <td>35</td>\n",
       "      <td>36</td>\n",
       "    </tr>\n",
       "    <tr>\n",
       "      <th>5</th>\n",
       "      <td>221.40</td>\n",
       "      <td>46</td>\n",
       "      <td>51</td>\n",
       "    </tr>\n",
       "    <tr>\n",
       "      <th>6</th>\n",
       "      <td>174.10</td>\n",
       "      <td>42</td>\n",
       "      <td>43</td>\n",
       "    </tr>\n",
       "    <tr>\n",
       "      <th>7</th>\n",
       "      <td>206.90</td>\n",
       "      <td>49</td>\n",
       "      <td>52</td>\n",
       "    </tr>\n",
       "    <tr>\n",
       "      <th>8</th>\n",
       "      <td>176.10</td>\n",
       "      <td>42</td>\n",
       "      <td>43</td>\n",
       "    </tr>\n",
       "    <tr>\n",
       "      <th>...</th>\n",
       "      <th>...</th>\n",
       "      <td>...</td>\n",
       "      <td>...</td>\n",
       "      <td>...</td>\n",
       "    </tr>\n",
       "    <tr>\n",
       "      <th rowspan=\"5\" valign=\"top\">272</th>\n",
       "      <th>8</th>\n",
       "      <td>372.85</td>\n",
       "      <td>44</td>\n",
       "      <td>48</td>\n",
       "    </tr>\n",
       "    <tr>\n",
       "      <th>9</th>\n",
       "      <td>304.70</td>\n",
       "      <td>32</td>\n",
       "      <td>36</td>\n",
       "    </tr>\n",
       "    <tr>\n",
       "      <th>10</th>\n",
       "      <td>430.60</td>\n",
       "      <td>44</td>\n",
       "      <td>51</td>\n",
       "    </tr>\n",
       "    <tr>\n",
       "      <th>11</th>\n",
       "      <td>376.20</td>\n",
       "      <td>41</td>\n",
       "      <td>45</td>\n",
       "    </tr>\n",
       "    <tr>\n",
       "      <th>12</th>\n",
       "      <td>403.90</td>\n",
       "      <td>47</td>\n",
       "      <td>47</td>\n",
       "    </tr>\n",
       "  </tbody>\n",
       "</table>\n",
       "<p>2375 rows × 3 columns</p>\n",
       "</div>"
      ],
      "text/plain": [
       "                 TOT_SALES  LYLTY_CARD_NBR  TXN_ID\n",
       "STORE_NBR MONTH                                   \n",
       "1         1         154.80              35      36\n",
       "          5         221.40              46      51\n",
       "          6         174.10              42      43\n",
       "          7         206.90              49      52\n",
       "          8         176.10              42      43\n",
       "...                    ...             ...     ...\n",
       "272       8         372.85              44      48\n",
       "          9         304.70              32      36\n",
       "          10        430.60              44      51\n",
       "          11        376.20              41      45\n",
       "          12        403.90              47      47\n",
       "\n",
       "[2375 rows x 3 columns]"
      ]
     },
     "execution_count": 33,
     "metadata": {},
     "output_type": "execute_result"
    }
   ],
   "source": [
    "G_plot=G_month.copy()\n",
    "G_plot"
   ]
  },
  {
   "cell_type": "code",
   "execution_count": 34,
   "id": "1161c90c",
   "metadata": {},
   "outputs": [],
   "source": [
    "#droping the vaules of store 77,86,88\n",
    "a=[77,86,88]\n",
    "G_month1.drop(a, level=0, axis=0,inplace=True)"
   ]
  },
  {
   "cell_type": "code",
   "execution_count": 35,
   "id": "1c4d9598",
   "metadata": {},
   "outputs": [
    {
     "data": {
      "text/html": [
       "<div>\n",
       "<style scoped>\n",
       "    .dataframe tbody tr th:only-of-type {\n",
       "        vertical-align: middle;\n",
       "    }\n",
       "\n",
       "    .dataframe tbody tr th {\n",
       "        vertical-align: top;\n",
       "    }\n",
       "\n",
       "    .dataframe thead th {\n",
       "        text-align: right;\n",
       "    }\n",
       "</style>\n",
       "<table border=\"1\" class=\"dataframe\">\n",
       "  <thead>\n",
       "    <tr style=\"text-align: right;\">\n",
       "      <th></th>\n",
       "      <th></th>\n",
       "      <th>TOT_SALES</th>\n",
       "      <th>LYLTY_CARD_NBR</th>\n",
       "      <th>TXN_ID</th>\n",
       "    </tr>\n",
       "    <tr>\n",
       "      <th>STORE_NBR</th>\n",
       "      <th>MONTH</th>\n",
       "      <th></th>\n",
       "      <th></th>\n",
       "      <th></th>\n",
       "    </tr>\n",
       "  </thead>\n",
       "  <tbody>\n",
       "    <tr>\n",
       "      <th rowspan=\"5\" valign=\"top\">1</th>\n",
       "      <th>1</th>\n",
       "      <td>154.80</td>\n",
       "      <td>35</td>\n",
       "      <td>36</td>\n",
       "    </tr>\n",
       "    <tr>\n",
       "      <th>5</th>\n",
       "      <td>221.40</td>\n",
       "      <td>46</td>\n",
       "      <td>51</td>\n",
       "    </tr>\n",
       "    <tr>\n",
       "      <th>6</th>\n",
       "      <td>174.10</td>\n",
       "      <td>42</td>\n",
       "      <td>43</td>\n",
       "    </tr>\n",
       "    <tr>\n",
       "      <th>7</th>\n",
       "      <td>206.90</td>\n",
       "      <td>49</td>\n",
       "      <td>52</td>\n",
       "    </tr>\n",
       "    <tr>\n",
       "      <th>8</th>\n",
       "      <td>176.10</td>\n",
       "      <td>42</td>\n",
       "      <td>43</td>\n",
       "    </tr>\n",
       "    <tr>\n",
       "      <th>...</th>\n",
       "      <th>...</th>\n",
       "      <td>...</td>\n",
       "      <td>...</td>\n",
       "      <td>...</td>\n",
       "    </tr>\n",
       "    <tr>\n",
       "      <th rowspan=\"5\" valign=\"top\">272</th>\n",
       "      <th>8</th>\n",
       "      <td>372.85</td>\n",
       "      <td>44</td>\n",
       "      <td>48</td>\n",
       "    </tr>\n",
       "    <tr>\n",
       "      <th>9</th>\n",
       "      <td>304.70</td>\n",
       "      <td>32</td>\n",
       "      <td>36</td>\n",
       "    </tr>\n",
       "    <tr>\n",
       "      <th>10</th>\n",
       "      <td>430.60</td>\n",
       "      <td>44</td>\n",
       "      <td>51</td>\n",
       "    </tr>\n",
       "    <tr>\n",
       "      <th>11</th>\n",
       "      <td>376.20</td>\n",
       "      <td>41</td>\n",
       "      <td>45</td>\n",
       "    </tr>\n",
       "    <tr>\n",
       "      <th>12</th>\n",
       "      <td>403.90</td>\n",
       "      <td>47</td>\n",
       "      <td>47</td>\n",
       "    </tr>\n",
       "  </tbody>\n",
       "</table>\n",
       "<p>2313 rows × 3 columns</p>\n",
       "</div>"
      ],
      "text/plain": [
       "                 TOT_SALES  LYLTY_CARD_NBR  TXN_ID\n",
       "STORE_NBR MONTH                                   \n",
       "1         1         154.80              35      36\n",
       "          5         221.40              46      51\n",
       "          6         174.10              42      43\n",
       "          7         206.90              49      52\n",
       "          8         176.10              42      43\n",
       "...                    ...             ...     ...\n",
       "272       8         372.85              44      48\n",
       "          9         304.70              32      36\n",
       "          10        430.60              44      51\n",
       "          11        376.20              41      45\n",
       "          12        403.90              47      47\n",
       "\n",
       "[2313 rows x 3 columns]"
      ]
     },
     "execution_count": 35,
     "metadata": {},
     "output_type": "execute_result"
    }
   ],
   "source": [
    "#dropping the values of inavlid months stored in \"list\"\n",
    "G_month1.drop(list, level=0, axis=0,inplace=True)\n",
    "G_month1"
   ]
  },
  {
   "cell_type": "code",
   "execution_count": 36,
   "id": "8a053137",
   "metadata": {},
   "outputs": [],
   "source": [
    "def calculate_cor(Trail_store):\n",
    "    cor_m1=[]\n",
    "    cor_m2=[]\n",
    "    cor_m3=[]\n",
    "    list1=[]\n",
    "    Tstore=Trail_store\n",
    "    df = pd.DataFrame()\n",
    "    for i in G_month1.groupby(level=0):\n",
    "        a=pd.DataFrame(i[1])\n",
    "        #this below code is for metric 1\n",
    "        cm1=a['TOT_SALES'].tolist()\n",
    "        tm1=Tstore['TOT_SALES'].tolist()\n",
    "        r1=(np.corrcoef(cm1,tm1)[0,1])\n",
    "        cor_m1.append(r1)\n",
    "\n",
    "        #this below code is for metric 2\n",
    "        cm2=a['LYLTY_CARD_NBR'].tolist()\n",
    "        tm2=Tstore['LYLTY_CARD_NBR'].tolist()\n",
    "        r2=(np.corrcoef(cm2,tm2)[0,1])\n",
    "        cor_m2.append(r2)\n",
    "\n",
    "        #this below code is for metric 3\n",
    "        cm3=a['TOT_SALES'].tolist()\n",
    "        tm3=Tstore['TOT_SALES'].tolist()\n",
    "        r3=(np.corrcoef(cm3,tm3)[0,1])\n",
    "        cor_m3.append(r3)\n",
    "\n",
    "        #this is colleting the index of the dataframe\n",
    "        b=a.index.unique(0)\n",
    "        list1.append(b[0])\n",
    "\n",
    "    print(len(list1))\n",
    "    #df=pd.DataFrame({'Cor_metric1' : [cor_m1],'Cor_metric2' : [cor_m2],'Cor_metric3' : [cor_m3] }, index=b, columns=['Cor_metric1','Cor_metric2','Cor_metric3'])\n",
    "    df['Store_No']=list1\n",
    "    df['Cor_metric1'] = cor_m1\n",
    "    df['Cor_metric2'] = cor_m2\n",
    "    df['Cor_metric3'] = cor_m3\n",
    "    df['Average']=(df['Cor_metric1']+df['Cor_metric2']+df['Cor_metric3'])/3\n",
    "    return(df)"
   ]
  },
  {
   "cell_type": "markdown",
   "id": "513f64f0",
   "metadata": {},
   "source": [
    "# Correlations for store 77"
   ]
  },
  {
   "cell_type": "code",
   "execution_count": 37,
   "id": "31944903",
   "metadata": {},
   "outputs": [
    {
     "name": "stdout",
     "output_type": "stream",
     "text": [
      "257\n"
     ]
    },
    {
     "data": {
      "text/html": [
       "<div>\n",
       "<style scoped>\n",
       "    .dataframe tbody tr th:only-of-type {\n",
       "        vertical-align: middle;\n",
       "    }\n",
       "\n",
       "    .dataframe tbody tr th {\n",
       "        vertical-align: top;\n",
       "    }\n",
       "\n",
       "    .dataframe thead th {\n",
       "        text-align: right;\n",
       "    }\n",
       "</style>\n",
       "<table border=\"1\" class=\"dataframe\">\n",
       "  <thead>\n",
       "    <tr style=\"text-align: right;\">\n",
       "      <th></th>\n",
       "      <th>index</th>\n",
       "      <th>Store_No</th>\n",
       "      <th>Cor_metric1</th>\n",
       "      <th>Cor_metric2</th>\n",
       "      <th>Cor_metric3</th>\n",
       "      <th>Average</th>\n",
       "    </tr>\n",
       "  </thead>\n",
       "  <tbody>\n",
       "    <tr>\n",
       "      <th>0</th>\n",
       "      <td>218</td>\n",
       "      <td>233</td>\n",
       "      <td>0.880004</td>\n",
       "      <td>0.994132</td>\n",
       "      <td>0.880004</td>\n",
       "      <td>0.918047</td>\n",
       "    </tr>\n",
       "    <tr>\n",
       "      <th>1</th>\n",
       "      <td>38</td>\n",
       "      <td>41</td>\n",
       "      <td>0.836940</td>\n",
       "      <td>0.799126</td>\n",
       "      <td>0.836940</td>\n",
       "      <td>0.824336</td>\n",
       "    </tr>\n",
       "    <tr>\n",
       "      <th>2</th>\n",
       "      <td>78</td>\n",
       "      <td>84</td>\n",
       "      <td>0.777507</td>\n",
       "      <td>0.876067</td>\n",
       "      <td>0.777507</td>\n",
       "      <td>0.810360</td>\n",
       "    </tr>\n",
       "    <tr>\n",
       "      <th>3</th>\n",
       "      <td>105</td>\n",
       "      <td>115</td>\n",
       "      <td>0.715956</td>\n",
       "      <td>0.839229</td>\n",
       "      <td>0.715956</td>\n",
       "      <td>0.757047</td>\n",
       "    </tr>\n",
       "    <tr>\n",
       "      <th>4</th>\n",
       "      <td>156</td>\n",
       "      <td>167</td>\n",
       "      <td>0.725318</td>\n",
       "      <td>0.814820</td>\n",
       "      <td>0.725318</td>\n",
       "      <td>0.755152</td>\n",
       "    </tr>\n",
       "  </tbody>\n",
       "</table>\n",
       "</div>"
      ],
      "text/plain": [
       "   index  Store_No  Cor_metric1  Cor_metric2  Cor_metric3   Average\n",
       "0    218       233     0.880004     0.994132     0.880004  0.918047\n",
       "1     38        41     0.836940     0.799126     0.836940  0.824336\n",
       "2     78        84     0.777507     0.876067     0.777507  0.810360\n",
       "3    105       115     0.715956     0.839229     0.715956  0.757047\n",
       "4    156       167     0.725318     0.814820     0.725318  0.755152"
      ]
     },
     "execution_count": 37,
     "metadata": {},
     "output_type": "execute_result"
    }
   ],
   "source": [
    "df_77=calculate_cor(Tstore1)\n",
    "df_77.sort_values(by='Average',ascending=False).head().reset_index()"
   ]
  },
  {
   "cell_type": "code",
   "execution_count": 38,
   "id": "fe7e6618",
   "metadata": {},
   "outputs": [
    {
     "data": {
      "text/plain": [
       "[<matplotlib.lines.Line2D at 0x172166fe190>]"
      ]
     },
     "execution_count": 38,
     "metadata": {},
     "output_type": "execute_result"
    },
    {
     "data": {
      "image/png": "[encoded data removed]",
      "text/plain": [
       "<Figure size 432x288 with 1 Axes>"
      ]
     },
     "metadata": {
      "needs_background": "light"
     },
     "output_type": "display_data"
    }
   ],
   "source": [
    "x=G_plot.loc[233].TOT_SALES\n",
    "y=G_plot.loc[77].TOT_SALES\n",
    "plt.plot(x)\n",
    "plt.plot(y)"
   ]
  },
  {
   "cell_type": "code",
   "execution_count": 39,
   "id": "6c5ed6df",
   "metadata": {},
   "outputs": [
    {
     "data": {
      "text/plain": [
       "[<matplotlib.lines.Line2D at 0x1721674d9d0>]"
      ]
     },
     "execution_count": 39,
     "metadata": {},
     "output_type": "execute_result"
    },
    {
     "data": {
      "image/png": "[encoded data removed]",
      "text/plain": [
       "<Figure size 432x288 with 1 Axes>"
      ]
     },
     "metadata": {
      "needs_background": "light"
     },
     "output_type": "display_data"
    }
   ],
   "source": [
    "x=G_plot.loc[233].LYLTY_CARD_NBR\n",
    "y=G_plot.loc[77].LYLTY_CARD_NBR\n",
    "plt.plot(x)\n",
    "plt.plot(y)"
   ]
  },
  {
   "cell_type": "code",
   "execution_count": 40,
   "id": "54284cbe",
   "metadata": {},
   "outputs": [
    {
     "data": {
      "text/plain": [
       "[<matplotlib.lines.Line2D at 0x17217428190>]"
      ]
     },
     "execution_count": 40,
     "metadata": {},
     "output_type": "execute_result"
    },
    {
     "data": {
      "image/png": "[encoded data removed]",
      "text/plain": [
       "<Figure size 432x288 with 1 Axes>"
      ]
     },
     "metadata": {
      "needs_background": "light"
     },
     "output_type": "display_data"
    }
   ],
   "source": [
    "x=G_plot.loc[233].TXN_ID\n",
    "y=G_plot.loc[77].TXN_ID\n",
    "plt.plot(x)\n",
    "plt.plot(y)"
   ]
  },
  {
   "cell_type": "markdown",
   "id": "fa7a8588",
   "metadata": {},
   "source": [
    "# Correlations for store 86"
   ]
  },
  {
   "cell_type": "code",
   "execution_count": 41,
   "id": "a3f6f8cb",
   "metadata": {},
   "outputs": [
    {
     "name": "stdout",
     "output_type": "stream",
     "text": [
      "257\n"
     ]
    },
    {
     "data": {
      "text/html": [
       "<div>\n",
       "<style scoped>\n",
       "    .dataframe tbody tr th:only-of-type {\n",
       "        vertical-align: middle;\n",
       "    }\n",
       "\n",
       "    .dataframe tbody tr th {\n",
       "        vertical-align: top;\n",
       "    }\n",
       "\n",
       "    .dataframe thead th {\n",
       "        text-align: right;\n",
       "    }\n",
       "</style>\n",
       "<table border=\"1\" class=\"dataframe\">\n",
       "  <thead>\n",
       "    <tr style=\"text-align: right;\">\n",
       "      <th></th>\n",
       "      <th>index</th>\n",
       "      <th>Store_No</th>\n",
       "      <th>Cor_metric1</th>\n",
       "      <th>Cor_metric2</th>\n",
       "      <th>Cor_metric3</th>\n",
       "      <th>Average</th>\n",
       "    </tr>\n",
       "  </thead>\n",
       "  <tbody>\n",
       "    <tr>\n",
       "      <th>0</th>\n",
       "      <td>144</td>\n",
       "      <td>155</td>\n",
       "      <td>0.885236</td>\n",
       "      <td>0.930845</td>\n",
       "      <td>0.885236</td>\n",
       "      <td>0.900439</td>\n",
       "    </tr>\n",
       "    <tr>\n",
       "      <th>1</th>\n",
       "      <td>225</td>\n",
       "      <td>240</td>\n",
       "      <td>0.814900</td>\n",
       "      <td>0.618404</td>\n",
       "      <td>0.814900</td>\n",
       "      <td>0.749401</td>\n",
       "    </tr>\n",
       "    <tr>\n",
       "      <th>2</th>\n",
       "      <td>244</td>\n",
       "      <td>260</td>\n",
       "      <td>0.668425</td>\n",
       "      <td>0.833410</td>\n",
       "      <td>0.668425</td>\n",
       "      <td>0.723420</td>\n",
       "    </tr>\n",
       "    <tr>\n",
       "      <th>3</th>\n",
       "      <td>5</td>\n",
       "      <td>6</td>\n",
       "      <td>0.734499</td>\n",
       "      <td>0.597523</td>\n",
       "      <td>0.734499</td>\n",
       "      <td>0.688841</td>\n",
       "    </tr>\n",
       "    <tr>\n",
       "      <th>4</th>\n",
       "      <td>121</td>\n",
       "      <td>132</td>\n",
       "      <td>0.646262</td>\n",
       "      <td>0.629340</td>\n",
       "      <td>0.646262</td>\n",
       "      <td>0.640621</td>\n",
       "    </tr>\n",
       "  </tbody>\n",
       "</table>\n",
       "</div>"
      ],
      "text/plain": [
       "   index  Store_No  Cor_metric1  Cor_metric2  Cor_metric3   Average\n",
       "0    144       155     0.885236     0.930845     0.885236  0.900439\n",
       "1    225       240     0.814900     0.618404     0.814900  0.749401\n",
       "2    244       260     0.668425     0.833410     0.668425  0.723420\n",
       "3      5         6     0.734499     0.597523     0.734499  0.688841\n",
       "4    121       132     0.646262     0.629340     0.646262  0.640621"
      ]
     },
     "execution_count": 41,
     "metadata": {},
     "output_type": "execute_result"
    }
   ],
   "source": [
    "df_86=calculate_cor(Tstore2)\n",
    "df_86.sort_values(by='Average',ascending=False).head().reset_index()"
   ]
  },
  {
   "cell_type": "code",
   "execution_count": 42,
   "id": "812e0edf",
   "metadata": {},
   "outputs": [
    {
     "data": {
      "text/plain": [
       "[<matplotlib.lines.Line2D at 0x1721661a280>]"
      ]
     },
     "execution_count": 42,
     "metadata": {},
     "output_type": "execute_result"
    },
    {
     "data": {
      "image/png": "[encoded data removed]",
      "text/plain": [
       "<Figure size 432x288 with 1 Axes>"
      ]
     },
     "metadata": {
      "needs_background": "light"
     },
     "output_type": "display_data"
    }
   ],
   "source": [
    "x=G_plot.loc[155].TOT_SALES\n",
    "y=G_plot.loc[86].TOT_SALES\n",
    "plt.plot(x)\n",
    "plt.plot(y)"
   ]
  },
  {
   "cell_type": "code",
   "execution_count": 43,
   "id": "f63bce93",
   "metadata": {},
   "outputs": [
    {
     "data": {
      "text/plain": [
       "[<matplotlib.lines.Line2D at 0x172165440a0>]"
      ]
     },
     "execution_count": 43,
     "metadata": {},
     "output_type": "execute_result"
    },
    {
     "data": {
      "image/png": "[encoded data removed]",
      "text/plain": [
       "<Figure size 432x288 with 1 Axes>"
      ]
     },
     "metadata": {
      "needs_background": "light"
     },
     "output_type": "display_data"
    }
   ],
   "source": [
    "x=G_plot.loc[155].LYLTY_CARD_NBR\n",
    "y=G_plot.loc[86].LYLTY_CARD_NBR\n",
    "plt.plot(x)\n",
    "plt.plot(y)"
   ]
  },
  {
   "cell_type": "code",
   "execution_count": 44,
   "id": "25f2f25b",
   "metadata": {},
   "outputs": [
    {
     "data": {
      "text/plain": [
       "[<matplotlib.lines.Line2D at 0x17214fc8c40>]"
      ]
     },
     "execution_count": 44,
     "metadata": {},
     "output_type": "execute_result"
    },
    {
     "data": {
      "image/png": "[encoded data removed]",
      "text/plain": [
       "<Figure size 432x288 with 1 Axes>"
      ]
     },
     "metadata": {
      "needs_background": "light"
     },
     "output_type": "display_data"
    }
   ],
   "source": [
    "x=G_plot.loc[155].TXN_ID\n",
    "y=G_plot.loc[86].TXN_ID\n",
    "plt.plot(x)\n",
    "plt.plot(y)"
   ]
  },
  {
   "cell_type": "markdown",
   "id": "0e1ea3ef",
   "metadata": {},
   "source": [
    "# Correlations for store 88"
   ]
  },
  {
   "cell_type": "code",
   "execution_count": 45,
   "id": "faaad51e",
   "metadata": {},
   "outputs": [
    {
     "name": "stdout",
     "output_type": "stream",
     "text": [
      "257\n"
     ]
    },
    {
     "data": {
      "text/html": [
       "<div>\n",
       "<style scoped>\n",
       "    .dataframe tbody tr th:only-of-type {\n",
       "        vertical-align: middle;\n",
       "    }\n",
       "\n",
       "    .dataframe tbody tr th {\n",
       "        vertical-align: top;\n",
       "    }\n",
       "\n",
       "    .dataframe thead th {\n",
       "        text-align: right;\n",
       "    }\n",
       "</style>\n",
       "<table border=\"1\" class=\"dataframe\">\n",
       "  <thead>\n",
       "    <tr style=\"text-align: right;\">\n",
       "      <th></th>\n",
       "      <th>index</th>\n",
       "      <th>Store_No</th>\n",
       "      <th>Cor_metric1</th>\n",
       "      <th>Cor_metric2</th>\n",
       "      <th>Cor_metric3</th>\n",
       "      <th>Average</th>\n",
       "    </tr>\n",
       "  </thead>\n",
       "  <tbody>\n",
       "    <tr>\n",
       "      <th>0</th>\n",
       "      <td>123</td>\n",
       "      <td>134</td>\n",
       "      <td>0.870708</td>\n",
       "      <td>0.338051</td>\n",
       "      <td>0.870708</td>\n",
       "      <td>0.693155</td>\n",
       "    </tr>\n",
       "    <tr>\n",
       "      <th>1</th>\n",
       "      <td>148</td>\n",
       "      <td>159</td>\n",
       "      <td>0.901912</td>\n",
       "      <td>0.140220</td>\n",
       "      <td>0.901912</td>\n",
       "      <td>0.648015</td>\n",
       "    </tr>\n",
       "    <tr>\n",
       "      <th>2</th>\n",
       "      <td>176</td>\n",
       "      <td>187</td>\n",
       "      <td>0.619833</td>\n",
       "      <td>0.604224</td>\n",
       "      <td>0.619833</td>\n",
       "      <td>0.614630</td>\n",
       "    </tr>\n",
       "    <tr>\n",
       "      <th>3</th>\n",
       "      <td>150</td>\n",
       "      <td>161</td>\n",
       "      <td>0.653020</td>\n",
       "      <td>0.534989</td>\n",
       "      <td>0.653020</td>\n",
       "      <td>0.613676</td>\n",
       "    </tr>\n",
       "    <tr>\n",
       "      <th>4</th>\n",
       "      <td>12</td>\n",
       "      <td>14</td>\n",
       "      <td>0.632443</td>\n",
       "      <td>0.533647</td>\n",
       "      <td>0.632443</td>\n",
       "      <td>0.599511</td>\n",
       "    </tr>\n",
       "  </tbody>\n",
       "</table>\n",
       "</div>"
      ],
      "text/plain": [
       "   index  Store_No  Cor_metric1  Cor_metric2  Cor_metric3   Average\n",
       "0    123       134     0.870708     0.338051     0.870708  0.693155\n",
       "1    148       159     0.901912     0.140220     0.901912  0.648015\n",
       "2    176       187     0.619833     0.604224     0.619833  0.614630\n",
       "3    150       161     0.653020     0.534989     0.653020  0.613676\n",
       "4     12        14     0.632443     0.533647     0.632443  0.599511"
      ]
     },
     "execution_count": 45,
     "metadata": {},
     "output_type": "execute_result"
    }
   ],
   "source": [
    "df_88=calculate_cor(Tstore3)\n",
    "df_88.sort_values(by='Average',ascending=False).head().reset_index()"
   ]
  },
  {
   "cell_type": "code",
   "execution_count": 46,
   "id": "25819e93",
   "metadata": {},
   "outputs": [
    {
     "data": {
      "text/plain": [
       "[<matplotlib.lines.Line2D at 0x172165ed730>]"
      ]
     },
     "execution_count": 46,
     "metadata": {},
     "output_type": "execute_result"
    },
    {
     "data": {
      "image/png": "[encoded data removed]",
      "text/plain": [
       "<Figure size 432x288 with 1 Axes>"
      ]
     },
     "metadata": {
      "needs_background": "light"
     },
     "output_type": "display_data"
    }
   ],
   "source": [
    "x=G_plot.loc[134].TOT_SALES\n",
    "y=G_plot.loc[88].TOT_SALES\n",
    "plt.plot(x)\n",
    "plt.plot(y)"
   ]
  },
  {
   "cell_type": "code",
   "execution_count": 47,
   "id": "cac8e39e",
   "metadata": {},
   "outputs": [
    {
     "data": {
      "text/plain": [
       "[<matplotlib.lines.Line2D at 0x17214fd8730>]"
      ]
     },
     "execution_count": 47,
     "metadata": {},
     "output_type": "execute_result"
    },
    {
     "data": {
      "image/png": "[encoded data removed]",
      "text/plain": [
       "<Figure size 432x288 with 1 Axes>"
      ]
     },
     "metadata": {
      "needs_background": "light"
     },
     "output_type": "display_data"
    }
   ],
   "source": [
    "x=G_plot.loc[134].LYLTY_CARD_NBR\n",
    "y=G_plot.loc[88].LYLTY_CARD_NBR\n",
    "plt.plot(x)\n",
    "plt.plot(y)"
   ]
  },
  {
   "cell_type": "code",
   "execution_count": 48,
   "id": "b74f5725",
   "metadata": {},
   "outputs": [
    {
     "data": {
      "text/plain": [
       "[<matplotlib.lines.Line2D at 0x172174aff10>]"
      ]
     },
     "execution_count": 48,
     "metadata": {},
     "output_type": "execute_result"
    },
    {
     "data": {
      "image/png": "[encoded data removed]",
      "text/plain": [
       "<Figure size 432x288 with 1 Axes>"
      ]
     },
     "metadata": {
      "needs_background": "light"
     },
     "output_type": "display_data"
    }
   ],
   "source": [
    "x=G_plot.loc[134].TXN_ID\n",
    "y=G_plot.loc[88].TXN_ID\n",
    "plt.plot(x)\n",
    "plt.plot(y)"
   ]
  },
  {
   "cell_type": "markdown",
   "id": "fc42b3ce",
   "metadata": {},
   "source": [
    "# Hypothesis Testing"
   ]
  },
  {
   "cell_type": "markdown",
   "id": "67194b57",
   "metadata": {},
   "source": [
    "### Functions"
   ]
  },
  {
   "cell_type": "code",
   "execution_count": 49,
   "id": "5ddef116",
   "metadata": {},
   "outputs": [],
   "source": [
    "def difference(cols):\n",
    "    a=cols[0]\n",
    "    b=cols[1]\n",
    "    dif=(a-b)/b\n",
    "    return abs(dif*100)\n",
    "\n",
    "\n",
    "def z_score(df):\n",
    "    # copy the dataframe\n",
    "    df_std = df.copy()\n",
    "    # apply the z-score method\n",
    "    for column in df_std.columns:\n",
    "        df_std[column] = (df_std[column] - df_std[column].mean()) / df_std[column].std()\n",
    "        \n",
    "    return df_std\n",
    "#a is the smaple mean(i.e different percentage of each sample)\n",
    "#b is the standard devation. FYI rest of the values in this formula is ignored because of the Null Hypothesis\n",
    "def t_value(a,b):\n",
    "    return round((a/b),4)\n",
    "\n",
    "def basefactor(T_S,C_S,T_S1,C_S1):\n",
    "    Pre_T=pd.DataFrame()\n",
    "    a=T_S['TOT_SALES']\n",
    "    b=C_S['TOT_SALES']\n",
    "    On_T=pd.DataFrame()\n",
    "    a1=T_S1['TOT_SALES']\n",
    "    b1=C_S1['TOT_SALES']\n",
    "    AS=sum(a)+sum(a1)\n",
    "    BS=sum(b)+sum(b1)\n",
    "    factor=round((AS/BS),4)\n",
    "    print(factor)\n",
    "    return factor,a,b,a1,b1\n",
    "\n",
    "def multifactor(a,b,factor):\n",
    "    Pre_T=pd.DataFrame()\n",
    "    Pre_T['Scaled_TS']=a\n",
    "    Pre_T['Scaled_CS']=b*factor\n",
    "    return(Pre_T)"
   ]
  },
  {
   "cell_type": "markdown",
   "id": "463ccb14",
   "metadata": {},
   "source": [
    "## Store 77 and 233"
   ]
  },
  {
   "cell_type": "code",
   "execution_count": 50,
   "id": "1b0b40d9",
   "metadata": {},
   "outputs": [],
   "source": [
    "#Pre-trail period\n",
    "T_S=G_month.loc[77]\n",
    "C_S=G_month.loc[233]"
   ]
  },
  {
   "cell_type": "code",
   "execution_count": 51,
   "id": "5dae4578",
   "metadata": {},
   "outputs": [],
   "source": [
    "#during the Trial period\n",
    "T_S1=TG_month.loc[77]\n",
    "C_S1=TG_month.loc[233]"
   ]
  },
  {
   "cell_type": "code",
   "execution_count": 52,
   "id": "13a8c9ac",
   "metadata": {},
   "outputs": [
    {
     "name": "stdout",
     "output_type": "stream",
     "text": [
      "1.0754\n"
     ]
    }
   ],
   "source": [
    "'''Pre_T=pd.DataFrame()\n",
    "a=T_S['TOT_SALES']\n",
    "b=C_S['TOT_SALES']\n",
    "On_T=pd.DataFrame()\n",
    "a1=T_S1['TOT_SALES']\n",
    "b1=C_S1['TOT_SALES']\n",
    "AS=sum(a)+sum(a1)\n",
    "BS=sum(b)+sum(b1)\n",
    "factor=round((AS/BS),2)\n",
    "print(factor)'''\n",
    "factor,a,b,a1,b1=basefactor(T_S,C_S,T_S1,C_S1)"
   ]
  },
  {
   "cell_type": "code",
   "execution_count": 53,
   "id": "d971ed0c",
   "metadata": {},
   "outputs": [
    {
     "name": "stdout",
     "output_type": "stream",
     "text": [
      "       Scaled_TS  Scaled_CS\n",
      "MONTH                      \n",
      "1          204.4  190.88350\n",
      "5          299.3  370.36776\n",
      "6          264.7  237.66340\n",
      "7          296.8  312.61878\n",
      "8          255.5  307.45686\n",
      "9          225.2  245.83644\n",
      "10         204.5  199.70178\n",
      "11         245.3  227.55464\n",
      "12         267.3  300.89692\n"
     ]
    }
   ],
   "source": [
    "'''Pre_T=pd.DataFrame()\n",
    "Pre_T['Scaled_TS']=a\n",
    "Pre_T['Scaled_CS']=b*factor'''\n",
    "Pre_T=multifactor(a,b,factor)\n",
    "print(Pre_T)"
   ]
  },
  {
   "cell_type": "code",
   "execution_count": 54,
   "id": "7cee2b99",
   "metadata": {},
   "outputs": [
    {
     "data": {
      "text/html": [
       "<div>\n",
       "<style scoped>\n",
       "    .dataframe tbody tr th:only-of-type {\n",
       "        vertical-align: middle;\n",
       "    }\n",
       "\n",
       "    .dataframe tbody tr th {\n",
       "        vertical-align: top;\n",
       "    }\n",
       "\n",
       "    .dataframe thead th {\n",
       "        text-align: right;\n",
       "    }\n",
       "</style>\n",
       "<table border=\"1\" class=\"dataframe\">\n",
       "  <thead>\n",
       "    <tr style=\"text-align: right;\">\n",
       "      <th></th>\n",
       "      <th>Scaled_TS</th>\n",
       "      <th>Scaled_CS</th>\n",
       "      <th>Per-diff</th>\n",
       "    </tr>\n",
       "    <tr>\n",
       "      <th>MONTH</th>\n",
       "      <th></th>\n",
       "      <th></th>\n",
       "      <th></th>\n",
       "    </tr>\n",
       "  </thead>\n",
       "  <tbody>\n",
       "    <tr>\n",
       "      <th>1</th>\n",
       "      <td>204.4</td>\n",
       "      <td>190.88350</td>\n",
       "      <td>7.081021</td>\n",
       "    </tr>\n",
       "    <tr>\n",
       "      <th>5</th>\n",
       "      <td>299.3</td>\n",
       "      <td>370.36776</td>\n",
       "      <td>19.188430</td>\n",
       "    </tr>\n",
       "    <tr>\n",
       "      <th>6</th>\n",
       "      <td>264.7</td>\n",
       "      <td>237.66340</td>\n",
       "      <td>11.376005</td>\n",
       "    </tr>\n",
       "    <tr>\n",
       "      <th>7</th>\n",
       "      <td>296.8</td>\n",
       "      <td>312.61878</td>\n",
       "      <td>5.060086</td>\n",
       "    </tr>\n",
       "    <tr>\n",
       "      <th>8</th>\n",
       "      <td>255.5</td>\n",
       "      <td>307.45686</td>\n",
       "      <td>16.898911</td>\n",
       "    </tr>\n",
       "    <tr>\n",
       "      <th>9</th>\n",
       "      <td>225.2</td>\n",
       "      <td>245.83644</td>\n",
       "      <td>8.394378</td>\n",
       "    </tr>\n",
       "    <tr>\n",
       "      <th>10</th>\n",
       "      <td>204.5</td>\n",
       "      <td>199.70178</td>\n",
       "      <td>2.402693</td>\n",
       "    </tr>\n",
       "    <tr>\n",
       "      <th>11</th>\n",
       "      <td>245.3</td>\n",
       "      <td>227.55464</td>\n",
       "      <td>7.798285</td>\n",
       "    </tr>\n",
       "    <tr>\n",
       "      <th>12</th>\n",
       "      <td>267.3</td>\n",
       "      <td>300.89692</td>\n",
       "      <td>11.165591</td>\n",
       "    </tr>\n",
       "  </tbody>\n",
       "</table>\n",
       "</div>"
      ],
      "text/plain": [
       "       Scaled_TS  Scaled_CS   Per-diff\n",
       "MONTH                                 \n",
       "1          204.4  190.88350   7.081021\n",
       "5          299.3  370.36776  19.188430\n",
       "6          264.7  237.66340  11.376005\n",
       "7          296.8  312.61878   5.060086\n",
       "8          255.5  307.45686  16.898911\n",
       "9          225.2  245.83644   8.394378\n",
       "10         204.5  199.70178   2.402693\n",
       "11         245.3  227.55464   7.798285\n",
       "12         267.3  300.89692  11.165591"
      ]
     },
     "execution_count": 54,
     "metadata": {},
     "output_type": "execute_result"
    }
   ],
   "source": [
    "PreT_scaled = pd.DataFrame(Pre_T,columns=['Scaled_TS', 'Scaled_CS'])\n",
    "#PreT_scaled=z_score(PreT_scaled)\n",
    "PreT_scaled=PreT_scaled[[ \"Scaled_TS\", \"Scaled_CS\"]]\n",
    "PreT_scaled['Per-diff']=PreT_scaled[['Scaled_TS','Scaled_CS']].apply(difference,axis=1)\n",
    "stand_Dev=(PreT_scaled['Per-diff'].std())/100\n",
    "PreT_scaled"
   ]
  },
  {
   "cell_type": "code",
   "execution_count": 55,
   "id": "5d3acfbe",
   "metadata": {},
   "outputs": [
    {
     "name": "stdout",
     "output_type": "stream",
     "text": [
      "       Scaled_TS  Scaled_CS\n",
      "MONTH                      \n",
      "2          235.0  262.39760\n",
      "3          278.5  214.11214\n",
      "4          263.5  170.55844\n"
     ]
    }
   ],
   "source": [
    "'''On_T['Scaled_TS']=a1\n",
    "On_T['Scaled_CS']=b1*factor'''\n",
    "On_T=multifactor(a1,b1,factor)\n",
    "print(On_T)"
   ]
  },
  {
   "cell_type": "code",
   "execution_count": 56,
   "id": "a40b6eff",
   "metadata": {},
   "outputs": [
    {
     "data": {
      "text/html": [
       "<div>\n",
       "<style scoped>\n",
       "    .dataframe tbody tr th:only-of-type {\n",
       "        vertical-align: middle;\n",
       "    }\n",
       "\n",
       "    .dataframe tbody tr th {\n",
       "        vertical-align: top;\n",
       "    }\n",
       "\n",
       "    .dataframe thead th {\n",
       "        text-align: right;\n",
       "    }\n",
       "</style>\n",
       "<table border=\"1\" class=\"dataframe\">\n",
       "  <thead>\n",
       "    <tr style=\"text-align: right;\">\n",
       "      <th></th>\n",
       "      <th>Scaled_TS</th>\n",
       "      <th>Scaled_CS</th>\n",
       "      <th>Per-diff</th>\n",
       "    </tr>\n",
       "    <tr>\n",
       "      <th>MONTH</th>\n",
       "      <th></th>\n",
       "      <th></th>\n",
       "      <th></th>\n",
       "    </tr>\n",
       "  </thead>\n",
       "  <tbody>\n",
       "    <tr>\n",
       "      <th>2</th>\n",
       "      <td>235.0</td>\n",
       "      <td>262.39760</td>\n",
       "      <td>10.441254</td>\n",
       "    </tr>\n",
       "    <tr>\n",
       "      <th>3</th>\n",
       "      <td>278.5</td>\n",
       "      <td>214.11214</td>\n",
       "      <td>30.072027</td>\n",
       "    </tr>\n",
       "    <tr>\n",
       "      <th>4</th>\n",
       "      <td>263.5</td>\n",
       "      <td>170.55844</td>\n",
       "      <td>54.492501</td>\n",
       "    </tr>\n",
       "  </tbody>\n",
       "</table>\n",
       "</div>"
      ],
      "text/plain": [
       "       Scaled_TS  Scaled_CS   Per-diff\n",
       "MONTH                                 \n",
       "2          235.0  262.39760  10.441254\n",
       "3          278.5  214.11214  30.072027\n",
       "4          263.5  170.55844  54.492501"
      ]
     },
     "execution_count": 56,
     "metadata": {},
     "output_type": "execute_result"
    }
   ],
   "source": [
    "OnT_scaled = pd.DataFrame(On_T,columns=['Scaled_TS', 'Scaled_CS'])\n",
    "#OnT_scaled=z_score(OnT_scaled)\n",
    "OnT_scaled=OnT_scaled[[ \"Scaled_TS\", \"Scaled_CS\"]]\n",
    "OnT_scaled['Per-diff']=OnT_scaled[['Scaled_TS','Scaled_CS']].apply(difference,axis=1)\n",
    "OnT_scaled"
   ]
  },
  {
   "cell_type": "markdown",
   "id": "059782aa",
   "metadata": {},
   "source": [
    "## Hypothesis"
   ]
  },
  {
   "cell_type": "markdown",
   "id": "822c3353",
   "metadata": {},
   "source": [
    "### H(0)- There is NO significant difference between the Trail and Control Store\n",
    "### H(1)- There is significant difference in the Trail and Control store"
   ]
  },
  {
   "cell_type": "code",
   "execution_count": 57,
   "id": "de99eceb",
   "metadata": {},
   "outputs": [
    {
     "data": {
      "text/html": [
       "<div>\n",
       "<style scoped>\n",
       "    .dataframe tbody tr th:only-of-type {\n",
       "        vertical-align: middle;\n",
       "    }\n",
       "\n",
       "    .dataframe tbody tr th {\n",
       "        vertical-align: top;\n",
       "    }\n",
       "\n",
       "    .dataframe thead th {\n",
       "        text-align: right;\n",
       "    }\n",
       "</style>\n",
       "<table border=\"1\" class=\"dataframe\">\n",
       "  <thead>\n",
       "    <tr style=\"text-align: right;\">\n",
       "      <th></th>\n",
       "      <th>Scaled_TS</th>\n",
       "      <th>Scaled_CS</th>\n",
       "      <th>Per-diff</th>\n",
       "      <th>T-value</th>\n",
       "    </tr>\n",
       "    <tr>\n",
       "      <th>MONTH</th>\n",
       "      <th></th>\n",
       "      <th></th>\n",
       "      <th></th>\n",
       "      <th></th>\n",
       "    </tr>\n",
       "  </thead>\n",
       "  <tbody>\n",
       "    <tr>\n",
       "      <th>2</th>\n",
       "      <td>235.0</td>\n",
       "      <td>262.39760</td>\n",
       "      <td>10.441254</td>\n",
       "      <td>1.9335</td>\n",
       "    </tr>\n",
       "    <tr>\n",
       "      <th>3</th>\n",
       "      <td>278.5</td>\n",
       "      <td>214.11214</td>\n",
       "      <td>30.072027</td>\n",
       "      <td>5.5687</td>\n",
       "    </tr>\n",
       "    <tr>\n",
       "      <th>4</th>\n",
       "      <td>263.5</td>\n",
       "      <td>170.55844</td>\n",
       "      <td>54.492501</td>\n",
       "      <td>10.0908</td>\n",
       "    </tr>\n",
       "  </tbody>\n",
       "</table>\n",
       "</div>"
      ],
      "text/plain": [
       "       Scaled_TS  Scaled_CS   Per-diff  T-value\n",
       "MONTH                                          \n",
       "2          235.0  262.39760  10.441254   1.9335\n",
       "3          278.5  214.11214  30.072027   5.5687\n",
       "4          263.5  170.55844  54.492501  10.0908"
      ]
     },
     "execution_count": 57,
     "metadata": {},
     "output_type": "execute_result"
    }
   ],
   "source": [
    "List=[]\n",
    "for i in OnT_scaled['Per-diff']:\n",
    "    t=t_value((i/100),stand_Dev)\n",
    "    List.append(t)\n",
    "OnT_scaled['T-value']=List\n",
    "OnT_scaled"
   ]
  },
  {
   "cell_type": "code",
   "execution_count": 58,
   "id": "7ead2133",
   "metadata": {},
   "outputs": [
    {
     "name": "stdout",
     "output_type": "stream",
     "text": [
      "The P-value of Pre sales  0.014102582023341189\n",
      "The T-value of Pre sales  -2.9676417076966004\n"
     ]
    }
   ],
   "source": [
    "Pre_Tvalue=PreT_scaled['Per-diff']/100\n",
    "On_Tvalue=OnT_scaled['Per-diff']/100\n",
    "ttest,pval = stats.ttest_ind(Pre_Tvalue, On_Tvalue)\n",
    "print('The P-value of Pre sales ',pval)\n",
    "print('The T-value of Pre sales ',ttest)"
   ]
  },
  {
   "cell_type": "markdown",
   "id": "b7d604c9",
   "metadata": {},
   "source": [
    "### Conclusion-  We reject the null hypothesis H(0). We conclude that there is a significant Increase in sales during the Pre-Trail period and Trial period for store number 77"
   ]
  },
  {
   "cell_type": "markdown",
   "id": "9dae6181",
   "metadata": {},
   "source": [
    "## Store 86 and 155"
   ]
  },
  {
   "cell_type": "code",
   "execution_count": 59,
   "id": "1254496e",
   "metadata": {},
   "outputs": [],
   "source": [
    "#Pre-trail period\n",
    "T_S=G_month.loc[86]\n",
    "C_S=G_month.loc[155]"
   ]
  },
  {
   "cell_type": "code",
   "execution_count": 60,
   "id": "cea25aa3",
   "metadata": {},
   "outputs": [],
   "source": [
    "#during the Trial period\n",
    "T_S1=TG_month.loc[86]\n",
    "C_S1=TG_month.loc[155]"
   ]
  },
  {
   "cell_type": "code",
   "execution_count": 61,
   "id": "5be4e589",
   "metadata": {},
   "outputs": [
    {
     "name": "stdout",
     "output_type": "stream",
     "text": [
      "1.0006\n",
      "       Scaled_TS   Scaled_CS\n",
      "MONTH                       \n",
      "1         841.40   875.12476\n",
      "5         889.30   923.40371\n",
      "6         838.00   857.71432\n",
      "7         892.20   925.15476\n",
      "8         764.05   783.16962\n",
      "9         914.60  1015.00864\n",
      "10        948.40   964.37828\n",
      "11        918.00   899.33928\n",
      "12        841.20   850.30988\n"
     ]
    }
   ],
   "source": [
    "factor,a,b,a1,b1=basefactor(T_S,C_S,T_S1,C_S1)\n",
    "Pre_T=multifactor(a,b,factor)\n",
    "print(Pre_T)"
   ]
  },
  {
   "cell_type": "code",
   "execution_count": 62,
   "id": "ff34e883",
   "metadata": {},
   "outputs": [
    {
     "data": {
      "text/html": [
       "<div>\n",
       "<style scoped>\n",
       "    .dataframe tbody tr th:only-of-type {\n",
       "        vertical-align: middle;\n",
       "    }\n",
       "\n",
       "    .dataframe tbody tr th {\n",
       "        vertical-align: top;\n",
       "    }\n",
       "\n",
       "    .dataframe thead th {\n",
       "        text-align: right;\n",
       "    }\n",
       "</style>\n",
       "<table border=\"1\" class=\"dataframe\">\n",
       "  <thead>\n",
       "    <tr style=\"text-align: right;\">\n",
       "      <th></th>\n",
       "      <th>Scaled_TS</th>\n",
       "      <th>Scaled_CS</th>\n",
       "      <th>Per-diff</th>\n",
       "    </tr>\n",
       "    <tr>\n",
       "      <th>MONTH</th>\n",
       "      <th></th>\n",
       "      <th></th>\n",
       "      <th></th>\n",
       "    </tr>\n",
       "  </thead>\n",
       "  <tbody>\n",
       "    <tr>\n",
       "      <th>1</th>\n",
       "      <td>841.40</td>\n",
       "      <td>875.12476</td>\n",
       "      <td>3.853709</td>\n",
       "    </tr>\n",
       "    <tr>\n",
       "      <th>5</th>\n",
       "      <td>889.30</td>\n",
       "      <td>923.40371</td>\n",
       "      <td>3.693261</td>\n",
       "    </tr>\n",
       "    <tr>\n",
       "      <th>6</th>\n",
       "      <td>838.00</td>\n",
       "      <td>857.71432</td>\n",
       "      <td>2.298472</td>\n",
       "    </tr>\n",
       "    <tr>\n",
       "      <th>7</th>\n",
       "      <td>892.20</td>\n",
       "      <td>925.15476</td>\n",
       "      <td>3.562081</td>\n",
       "    </tr>\n",
       "    <tr>\n",
       "      <th>8</th>\n",
       "      <td>764.05</td>\n",
       "      <td>783.16962</td>\n",
       "      <td>2.441313</td>\n",
       "    </tr>\n",
       "    <tr>\n",
       "      <th>9</th>\n",
       "      <td>914.60</td>\n",
       "      <td>1015.00864</td>\n",
       "      <td>9.892393</td>\n",
       "    </tr>\n",
       "    <tr>\n",
       "      <th>10</th>\n",
       "      <td>948.40</td>\n",
       "      <td>964.37828</td>\n",
       "      <td>1.656848</td>\n",
       "    </tr>\n",
       "    <tr>\n",
       "      <th>11</th>\n",
       "      <td>918.00</td>\n",
       "      <td>899.33928</td>\n",
       "      <td>2.074937</td>\n",
       "    </tr>\n",
       "    <tr>\n",
       "      <th>12</th>\n",
       "      <td>841.20</td>\n",
       "      <td>850.30988</td>\n",
       "      <td>1.071360</td>\n",
       "    </tr>\n",
       "  </tbody>\n",
       "</table>\n",
       "</div>"
      ],
      "text/plain": [
       "       Scaled_TS   Scaled_CS  Per-diff\n",
       "MONTH                                 \n",
       "1         841.40   875.12476  3.853709\n",
       "5         889.30   923.40371  3.693261\n",
       "6         838.00   857.71432  2.298472\n",
       "7         892.20   925.15476  3.562081\n",
       "8         764.05   783.16962  2.441313\n",
       "9         914.60  1015.00864  9.892393\n",
       "10        948.40   964.37828  1.656848\n",
       "11        918.00   899.33928  2.074937\n",
       "12        841.20   850.30988  1.071360"
      ]
     },
     "execution_count": 62,
     "metadata": {},
     "output_type": "execute_result"
    }
   ],
   "source": [
    "PreT_scaled = pd.DataFrame(Pre_T,columns=['Scaled_TS', 'Scaled_CS'])\n",
    "#PreT_scaled=z_score(PreT_scaled)\n",
    "PreT_scaled=PreT_scaled[[ \"Scaled_TS\", \"Scaled_CS\"]]\n",
    "PreT_scaled['Per-diff']=PreT_scaled[['Scaled_TS','Scaled_CS']].apply(difference,axis=1)\n",
    "stand_Dev=(PreT_scaled['Per-diff'].std())/100\n",
    "PreT_scaled"
   ]
  },
  {
   "cell_type": "code",
   "execution_count": 63,
   "id": "f8dfb874",
   "metadata": {},
   "outputs": [
    {
     "data": {
      "text/html": [
       "<div>\n",
       "<style scoped>\n",
       "    .dataframe tbody tr th:only-of-type {\n",
       "        vertical-align: middle;\n",
       "    }\n",
       "\n",
       "    .dataframe tbody tr th {\n",
       "        vertical-align: top;\n",
       "    }\n",
       "\n",
       "    .dataframe thead th {\n",
       "        text-align: right;\n",
       "    }\n",
       "</style>\n",
       "<table border=\"1\" class=\"dataframe\">\n",
       "  <thead>\n",
       "    <tr style=\"text-align: right;\">\n",
       "      <th></th>\n",
       "      <th>Scaled_TS</th>\n",
       "      <th>Scaled_CS</th>\n",
       "    </tr>\n",
       "    <tr>\n",
       "      <th>MONTH</th>\n",
       "      <th></th>\n",
       "      <th></th>\n",
       "    </tr>\n",
       "  </thead>\n",
       "  <tbody>\n",
       "    <tr>\n",
       "      <th>2</th>\n",
       "      <td>913.2</td>\n",
       "      <td>891.73472</td>\n",
       "    </tr>\n",
       "    <tr>\n",
       "      <th>3</th>\n",
       "      <td>1026.8</td>\n",
       "      <td>804.88264</td>\n",
       "    </tr>\n",
       "    <tr>\n",
       "      <th>4</th>\n",
       "      <td>848.2</td>\n",
       "      <td>845.10676</td>\n",
       "    </tr>\n",
       "  </tbody>\n",
       "</table>\n",
       "</div>"
      ],
      "text/plain": [
       "       Scaled_TS  Scaled_CS\n",
       "MONTH                      \n",
       "2          913.2  891.73472\n",
       "3         1026.8  804.88264\n",
       "4          848.2  845.10676"
      ]
     },
     "execution_count": 63,
     "metadata": {},
     "output_type": "execute_result"
    }
   ],
   "source": [
    "On_T=multifactor(a1,b1,factor)\n",
    "On_T"
   ]
  },
  {
   "cell_type": "code",
   "execution_count": 64,
   "id": "985b43f1",
   "metadata": {},
   "outputs": [
    {
     "data": {
      "text/html": [
       "<div>\n",
       "<style scoped>\n",
       "    .dataframe tbody tr th:only-of-type {\n",
       "        vertical-align: middle;\n",
       "    }\n",
       "\n",
       "    .dataframe tbody tr th {\n",
       "        vertical-align: top;\n",
       "    }\n",
       "\n",
       "    .dataframe thead th {\n",
       "        text-align: right;\n",
       "    }\n",
       "</style>\n",
       "<table border=\"1\" class=\"dataframe\">\n",
       "  <thead>\n",
       "    <tr style=\"text-align: right;\">\n",
       "      <th></th>\n",
       "      <th>Scaled_TS</th>\n",
       "      <th>Scaled_CS</th>\n",
       "      <th>Per-diff</th>\n",
       "    </tr>\n",
       "    <tr>\n",
       "      <th>MONTH</th>\n",
       "      <th></th>\n",
       "      <th></th>\n",
       "      <th></th>\n",
       "    </tr>\n",
       "  </thead>\n",
       "  <tbody>\n",
       "    <tr>\n",
       "      <th>2</th>\n",
       "      <td>913.2</td>\n",
       "      <td>891.73472</td>\n",
       "      <td>2.407137</td>\n",
       "    </tr>\n",
       "    <tr>\n",
       "      <th>3</th>\n",
       "      <td>1026.8</td>\n",
       "      <td>804.88264</td>\n",
       "      <td>27.571394</td>\n",
       "    </tr>\n",
       "    <tr>\n",
       "      <th>4</th>\n",
       "      <td>848.2</td>\n",
       "      <td>845.10676</td>\n",
       "      <td>0.366018</td>\n",
       "    </tr>\n",
       "  </tbody>\n",
       "</table>\n",
       "</div>"
      ],
      "text/plain": [
       "       Scaled_TS  Scaled_CS   Per-diff\n",
       "MONTH                                 \n",
       "2          913.2  891.73472   2.407137\n",
       "3         1026.8  804.88264  27.571394\n",
       "4          848.2  845.10676   0.366018"
      ]
     },
     "execution_count": 64,
     "metadata": {},
     "output_type": "execute_result"
    }
   ],
   "source": [
    "OnT_scaled = pd.DataFrame(On_T,columns=['Scaled_TS', 'Scaled_CS'])\n",
    "#OnT_scaled=z_score(OnT_scaled)\n",
    "OnT_scaled=OnT_scaled[[ \"Scaled_TS\", \"Scaled_CS\"]]\n",
    "OnT_scaled['Per-diff']=OnT_scaled[['Scaled_TS','Scaled_CS']].apply(difference,axis=1)\n",
    "OnT_scaled"
   ]
  },
  {
   "cell_type": "markdown",
   "id": "e8ea16f5",
   "metadata": {},
   "source": [
    "# Hypothesis"
   ]
  },
  {
   "cell_type": "markdown",
   "id": "b635167e",
   "metadata": {},
   "source": [
    "### H(0)- There is NO significant difference between the Trail and Control Store\n",
    "### H(1)- There is significant difference in the Trail and Control store"
   ]
  },
  {
   "cell_type": "code",
   "execution_count": 65,
   "id": "798c7248",
   "metadata": {},
   "outputs": [
    {
     "data": {
      "text/html": [
       "<div>\n",
       "<style scoped>\n",
       "    .dataframe tbody tr th:only-of-type {\n",
       "        vertical-align: middle;\n",
       "    }\n",
       "\n",
       "    .dataframe tbody tr th {\n",
       "        vertical-align: top;\n",
       "    }\n",
       "\n",
       "    .dataframe thead th {\n",
       "        text-align: right;\n",
       "    }\n",
       "</style>\n",
       "<table border=\"1\" class=\"dataframe\">\n",
       "  <thead>\n",
       "    <tr style=\"text-align: right;\">\n",
       "      <th></th>\n",
       "      <th>Scaled_TS</th>\n",
       "      <th>Scaled_CS</th>\n",
       "      <th>Per-diff</th>\n",
       "      <th>T-value</th>\n",
       "    </tr>\n",
       "    <tr>\n",
       "      <th>MONTH</th>\n",
       "      <th></th>\n",
       "      <th></th>\n",
       "      <th></th>\n",
       "      <th></th>\n",
       "    </tr>\n",
       "  </thead>\n",
       "  <tbody>\n",
       "    <tr>\n",
       "      <th>2</th>\n",
       "      <td>913.2</td>\n",
       "      <td>891.73472</td>\n",
       "      <td>2.407137</td>\n",
       "      <td>0.9196</td>\n",
       "    </tr>\n",
       "    <tr>\n",
       "      <th>3</th>\n",
       "      <td>1026.8</td>\n",
       "      <td>804.88264</td>\n",
       "      <td>27.571394</td>\n",
       "      <td>10.5327</td>\n",
       "    </tr>\n",
       "    <tr>\n",
       "      <th>4</th>\n",
       "      <td>848.2</td>\n",
       "      <td>845.10676</td>\n",
       "      <td>0.366018</td>\n",
       "      <td>0.1398</td>\n",
       "    </tr>\n",
       "  </tbody>\n",
       "</table>\n",
       "</div>"
      ],
      "text/plain": [
       "       Scaled_TS  Scaled_CS   Per-diff  T-value\n",
       "MONTH                                          \n",
       "2          913.2  891.73472   2.407137   0.9196\n",
       "3         1026.8  804.88264  27.571394  10.5327\n",
       "4          848.2  845.10676   0.366018   0.1398"
      ]
     },
     "execution_count": 65,
     "metadata": {},
     "output_type": "execute_result"
    }
   ],
   "source": [
    "List=[]\n",
    "for i in OnT_scaled['Per-diff']:\n",
    "    t=t_value((i/100),stand_Dev)\n",
    "    List.append(t)\n",
    "OnT_scaled['T-value']=List\n",
    "OnT_scaled"
   ]
  },
  {
   "cell_type": "code",
   "execution_count": 66,
   "id": "b99295e8",
   "metadata": {},
   "outputs": [
    {
     "name": "stdout",
     "output_type": "stream",
     "text": [
      "The P-value of Pre sales  0.18997020574196957\n",
      "The T-value of Pre sales  -1.4061980396303297\n"
     ]
    }
   ],
   "source": [
    "Pre_Tvalue=PreT_scaled['Per-diff']/100\n",
    "On_Tvalue=OnT_scaled['Per-diff']/100\n",
    "ttest,pval = stats.ttest_ind(Pre_Tvalue, On_Tvalue)\n",
    "print('The P-value of Pre sales ',pval)\n",
    "print('The T-value of Pre sales ',ttest)"
   ]
  },
  {
   "cell_type": "markdown",
   "id": "b5736a1d",
   "metadata": {},
   "source": [
    "### Conclusion- We accept the Null hypothesis, since there is NO significant Increase in sales during the trail period in store 86"
   ]
  },
  {
   "cell_type": "markdown",
   "id": "472d4dae",
   "metadata": {},
   "source": [
    "# Store 88 and 134"
   ]
  },
  {
   "cell_type": "code",
   "execution_count": 67,
   "id": "6e78dab9",
   "metadata": {},
   "outputs": [],
   "source": [
    "#Pre-trail period\n",
    "T_S=G_month.loc[88]\n",
    "C_S=G_month.loc[134]"
   ]
  },
  {
   "cell_type": "code",
   "execution_count": 68,
   "id": "7a5e41e5",
   "metadata": {},
   "outputs": [],
   "source": [
    "#during the Trial period\n",
    "T_S1=TG_month.loc[88]\n",
    "C_S1=TG_month.loc[134]"
   ]
  },
  {
   "cell_type": "code",
   "execution_count": 69,
   "id": "4463a4fb",
   "metadata": {},
   "outputs": [
    {
     "name": "stdout",
     "output_type": "stream",
     "text": [
      "3.1133\n",
      "       Scaled_TS    Scaled_CS\n",
      "MONTH                        \n",
      "1        1266.40  1196.129860\n",
      "5        1308.25  1267.424430\n",
      "6        1354.60  1414.060860\n",
      "7        1310.00  1305.095360\n",
      "8        1323.80  1346.969245\n",
      "9        1423.00  1443.948540\n",
      "10       1352.40  1473.836220\n",
      "11       1382.80  1455.779080\n",
      "12       1325.20  1287.038220\n"
     ]
    }
   ],
   "source": [
    "factor,a,b,a1,b1=basefactor(T_S,C_S,T_S1,C_S1)\n",
    "Pre_T=multifactor(a,b,factor)\n",
    "print(Pre_T)"
   ]
  },
  {
   "cell_type": "code",
   "execution_count": 70,
   "id": "100c3d39",
   "metadata": {},
   "outputs": [
    {
     "data": {
      "text/html": [
       "<div>\n",
       "<style scoped>\n",
       "    .dataframe tbody tr th:only-of-type {\n",
       "        vertical-align: middle;\n",
       "    }\n",
       "\n",
       "    .dataframe tbody tr th {\n",
       "        vertical-align: top;\n",
       "    }\n",
       "\n",
       "    .dataframe thead th {\n",
       "        text-align: right;\n",
       "    }\n",
       "</style>\n",
       "<table border=\"1\" class=\"dataframe\">\n",
       "  <thead>\n",
       "    <tr style=\"text-align: right;\">\n",
       "      <th></th>\n",
       "      <th>Scaled_TS</th>\n",
       "      <th>Scaled_CS</th>\n",
       "      <th>Per-diff</th>\n",
       "    </tr>\n",
       "    <tr>\n",
       "      <th>MONTH</th>\n",
       "      <th></th>\n",
       "      <th></th>\n",
       "      <th></th>\n",
       "    </tr>\n",
       "  </thead>\n",
       "  <tbody>\n",
       "    <tr>\n",
       "      <th>1</th>\n",
       "      <td>1266.40</td>\n",
       "      <td>1196.129860</td>\n",
       "      <td>5.874792</td>\n",
       "    </tr>\n",
       "    <tr>\n",
       "      <th>5</th>\n",
       "      <td>1308.25</td>\n",
       "      <td>1267.424430</td>\n",
       "      <td>3.221144</td>\n",
       "    </tr>\n",
       "    <tr>\n",
       "      <th>6</th>\n",
       "      <td>1354.60</td>\n",
       "      <td>1414.060860</td>\n",
       "      <td>4.204972</td>\n",
       "    </tr>\n",
       "    <tr>\n",
       "      <th>7</th>\n",
       "      <td>1310.00</td>\n",
       "      <td>1305.095360</td>\n",
       "      <td>0.375807</td>\n",
       "    </tr>\n",
       "    <tr>\n",
       "      <th>8</th>\n",
       "      <td>1323.80</td>\n",
       "      <td>1346.969245</td>\n",
       "      <td>1.720102</td>\n",
       "    </tr>\n",
       "    <tr>\n",
       "      <th>9</th>\n",
       "      <td>1423.00</td>\n",
       "      <td>1443.948540</td>\n",
       "      <td>1.450782</td>\n",
       "    </tr>\n",
       "    <tr>\n",
       "      <th>10</th>\n",
       "      <td>1352.40</td>\n",
       "      <td>1473.836220</td>\n",
       "      <td>8.239465</td>\n",
       "    </tr>\n",
       "    <tr>\n",
       "      <th>11</th>\n",
       "      <td>1382.80</td>\n",
       "      <td>1455.779080</td>\n",
       "      <td>5.013060</td>\n",
       "    </tr>\n",
       "    <tr>\n",
       "      <th>12</th>\n",
       "      <td>1325.20</td>\n",
       "      <td>1287.038220</td>\n",
       "      <td>2.965085</td>\n",
       "    </tr>\n",
       "  </tbody>\n",
       "</table>\n",
       "</div>"
      ],
      "text/plain": [
       "       Scaled_TS    Scaled_CS  Per-diff\n",
       "MONTH                                  \n",
       "1        1266.40  1196.129860  5.874792\n",
       "5        1308.25  1267.424430  3.221144\n",
       "6        1354.60  1414.060860  4.204972\n",
       "7        1310.00  1305.095360  0.375807\n",
       "8        1323.80  1346.969245  1.720102\n",
       "9        1423.00  1443.948540  1.450782\n",
       "10       1352.40  1473.836220  8.239465\n",
       "11       1382.80  1455.779080  5.013060\n",
       "12       1325.20  1287.038220  2.965085"
      ]
     },
     "execution_count": 70,
     "metadata": {},
     "output_type": "execute_result"
    }
   ],
   "source": [
    "PreT_scaled = pd.DataFrame(Pre_T,columns=['Scaled_TS', 'Scaled_CS'])\n",
    "#PreT_scaled=z_score(PreT_scaled)\n",
    "PreT_scaled=PreT_scaled[[ \"Scaled_TS\", \"Scaled_CS\"]]\n",
    "PreT_scaled['Per-diff']=PreT_scaled[['Scaled_TS','Scaled_CS']].apply(difference,axis=1)\n",
    "stand_Dev=(PreT_scaled['Per-diff'].std())/100\n",
    "PreT_scaled"
   ]
  },
  {
   "cell_type": "code",
   "execution_count": 71,
   "id": "3407bfa3",
   "metadata": {},
   "outputs": [
    {
     "data": {
      "text/html": [
       "<div>\n",
       "<style scoped>\n",
       "    .dataframe tbody tr th:only-of-type {\n",
       "        vertical-align: middle;\n",
       "    }\n",
       "\n",
       "    .dataframe tbody tr th {\n",
       "        vertical-align: top;\n",
       "    }\n",
       "\n",
       "    .dataframe thead th {\n",
       "        text-align: right;\n",
       "    }\n",
       "</style>\n",
       "<table border=\"1\" class=\"dataframe\">\n",
       "  <thead>\n",
       "    <tr style=\"text-align: right;\">\n",
       "      <th></th>\n",
       "      <th>Scaled_TS</th>\n",
       "      <th>Scaled_CS</th>\n",
       "    </tr>\n",
       "    <tr>\n",
       "      <th>MONTH</th>\n",
       "      <th></th>\n",
       "      <th></th>\n",
       "    </tr>\n",
       "  </thead>\n",
       "  <tbody>\n",
       "    <tr>\n",
       "      <th>2</th>\n",
       "      <td>1370.2</td>\n",
       "      <td>1082.18308</td>\n",
       "    </tr>\n",
       "    <tr>\n",
       "      <th>3</th>\n",
       "      <td>1477.2</td>\n",
       "      <td>1209.82838</td>\n",
       "    </tr>\n",
       "    <tr>\n",
       "      <th>4</th>\n",
       "      <td>1439.4</td>\n",
       "      <td>1851.16818</td>\n",
       "    </tr>\n",
       "  </tbody>\n",
       "</table>\n",
       "</div>"
      ],
      "text/plain": [
       "       Scaled_TS   Scaled_CS\n",
       "MONTH                       \n",
       "2         1370.2  1082.18308\n",
       "3         1477.2  1209.82838\n",
       "4         1439.4  1851.16818"
      ]
     },
     "execution_count": 71,
     "metadata": {},
     "output_type": "execute_result"
    }
   ],
   "source": [
    "On_T=multifactor(a1,b1,factor)\n",
    "On_T"
   ]
  },
  {
   "cell_type": "code",
   "execution_count": 72,
   "id": "d58eda98",
   "metadata": {},
   "outputs": [
    {
     "data": {
      "text/html": [
       "<div>\n",
       "<style scoped>\n",
       "    .dataframe tbody tr th:only-of-type {\n",
       "        vertical-align: middle;\n",
       "    }\n",
       "\n",
       "    .dataframe tbody tr th {\n",
       "        vertical-align: top;\n",
       "    }\n",
       "\n",
       "    .dataframe thead th {\n",
       "        text-align: right;\n",
       "    }\n",
       "</style>\n",
       "<table border=\"1\" class=\"dataframe\">\n",
       "  <thead>\n",
       "    <tr style=\"text-align: right;\">\n",
       "      <th></th>\n",
       "      <th>Scaled_TS</th>\n",
       "      <th>Scaled_CS</th>\n",
       "      <th>Per-diff</th>\n",
       "    </tr>\n",
       "    <tr>\n",
       "      <th>MONTH</th>\n",
       "      <th></th>\n",
       "      <th></th>\n",
       "      <th></th>\n",
       "    </tr>\n",
       "  </thead>\n",
       "  <tbody>\n",
       "    <tr>\n",
       "      <th>2</th>\n",
       "      <td>1370.2</td>\n",
       "      <td>1082.18308</td>\n",
       "      <td>26.614436</td>\n",
       "    </tr>\n",
       "    <tr>\n",
       "      <th>3</th>\n",
       "      <td>1477.2</td>\n",
       "      <td>1209.82838</td>\n",
       "      <td>22.099963</td>\n",
       "    </tr>\n",
       "    <tr>\n",
       "      <th>4</th>\n",
       "      <td>1439.4</td>\n",
       "      <td>1851.16818</td>\n",
       "      <td>22.243694</td>\n",
       "    </tr>\n",
       "  </tbody>\n",
       "</table>\n",
       "</div>"
      ],
      "text/plain": [
       "       Scaled_TS   Scaled_CS   Per-diff\n",
       "MONTH                                  \n",
       "2         1370.2  1082.18308  26.614436\n",
       "3         1477.2  1209.82838  22.099963\n",
       "4         1439.4  1851.16818  22.243694"
      ]
     },
     "execution_count": 72,
     "metadata": {},
     "output_type": "execute_result"
    }
   ],
   "source": [
    "OnT_scaled = pd.DataFrame(On_T,columns=['Scaled_TS', 'Scaled_CS'])\n",
    "#OnT_scaled=z_score(OnT_scaled)\n",
    "OnT_scaled=OnT_scaled[[ \"Scaled_TS\", \"Scaled_CS\"]]\n",
    "OnT_scaled['Per-diff']=OnT_scaled[['Scaled_TS','Scaled_CS']].apply(difference,axis=1)\n",
    "OnT_scaled"
   ]
  },
  {
   "cell_type": "markdown",
   "id": "dc08b7e3",
   "metadata": {},
   "source": [
    "# Hypothesis"
   ]
  },
  {
   "cell_type": "markdown",
   "id": "505d6122",
   "metadata": {},
   "source": [
    "### H(0)- There is NO significant difference between the Trail and Control Store\n",
    "### H(1)- There is significant difference in the Trail and Control store"
   ]
  },
  {
   "cell_type": "code",
   "execution_count": 73,
   "id": "d7523875",
   "metadata": {},
   "outputs": [
    {
     "data": {
      "text/html": [
       "<div>\n",
       "<style scoped>\n",
       "    .dataframe tbody tr th:only-of-type {\n",
       "        vertical-align: middle;\n",
       "    }\n",
       "\n",
       "    .dataframe tbody tr th {\n",
       "        vertical-align: top;\n",
       "    }\n",
       "\n",
       "    .dataframe thead th {\n",
       "        text-align: right;\n",
       "    }\n",
       "</style>\n",
       "<table border=\"1\" class=\"dataframe\">\n",
       "  <thead>\n",
       "    <tr style=\"text-align: right;\">\n",
       "      <th></th>\n",
       "      <th>Scaled_TS</th>\n",
       "      <th>Scaled_CS</th>\n",
       "      <th>Per-diff</th>\n",
       "      <th>T-value</th>\n",
       "    </tr>\n",
       "    <tr>\n",
       "      <th>MONTH</th>\n",
       "      <th></th>\n",
       "      <th></th>\n",
       "      <th></th>\n",
       "      <th></th>\n",
       "    </tr>\n",
       "  </thead>\n",
       "  <tbody>\n",
       "    <tr>\n",
       "      <th>2</th>\n",
       "      <td>1370.2</td>\n",
       "      <td>1082.18308</td>\n",
       "      <td>26.614436</td>\n",
       "      <td>10.8531</td>\n",
       "    </tr>\n",
       "    <tr>\n",
       "      <th>3</th>\n",
       "      <td>1477.2</td>\n",
       "      <td>1209.82838</td>\n",
       "      <td>22.099963</td>\n",
       "      <td>9.0121</td>\n",
       "    </tr>\n",
       "    <tr>\n",
       "      <th>4</th>\n",
       "      <td>1439.4</td>\n",
       "      <td>1851.16818</td>\n",
       "      <td>22.243694</td>\n",
       "      <td>9.0707</td>\n",
       "    </tr>\n",
       "  </tbody>\n",
       "</table>\n",
       "</div>"
      ],
      "text/plain": [
       "       Scaled_TS   Scaled_CS   Per-diff  T-value\n",
       "MONTH                                           \n",
       "2         1370.2  1082.18308  26.614436  10.8531\n",
       "3         1477.2  1209.82838  22.099963   9.0121\n",
       "4         1439.4  1851.16818  22.243694   9.0707"
      ]
     },
     "execution_count": 73,
     "metadata": {},
     "output_type": "execute_result"
    }
   ],
   "source": [
    "List=[]\n",
    "for i in OnT_scaled['Per-diff']:\n",
    "    t=t_value((i/100),stand_Dev)\n",
    "    List.append(t)\n",
    "OnT_scaled['T-value']=List\n",
    "OnT_scaled"
   ]
  },
  {
   "cell_type": "code",
   "execution_count": 74,
   "id": "5b7fd15d",
   "metadata": {},
   "outputs": [
    {
     "name": "stdout",
     "output_type": "stream",
     "text": [
      "The P-value of Pre sales  2.688609208855565e-07\n",
      "The T-value of Pre sales  -12.106376342597311\n"
     ]
    }
   ],
   "source": [
    "Pre_Tvalue=PreT_scaled['Per-diff']/100\n",
    "On_Tvalue=OnT_scaled['Per-diff']/100\n",
    "ttest,pval = stats.ttest_ind(Pre_Tvalue, On_Tvalue)\n",
    "print('The P-value of Pre sales ',pval)\n",
    "print('The T-value of Pre sales ',ttest)"
   ]
  },
  {
   "cell_type": "markdown",
   "id": "d1250bd9",
   "metadata": {},
   "source": [
    "### Conclusion- We reject the null hypothesis H(0). We conclude that there is a significant Increase in sales during the Pre-Trail period and Trial period for store number 88"
   ]
  },
  {
   "cell_type": "code",
   "execution_count": null,
   "id": "11cba584",
   "metadata": {},
   "outputs": [],
   "source": []
  }
 ],
 "metadata": {
  "kernelspec": {
   "display_name": "Python 3 (ipykernel)",
   "language": "python",
   "name": "python3"
  },
  "language_info": {
   "codemirror_mode": {
    "name": "ipython",
    "version": 3
   },
   "file_extension": ".py",
   "mimetype": "text/x-python",
   "name": "python",
   "nbconvert_exporter": "python",
   "pygments_lexer": "ipython3",
   "version": "3.11.8"
  }
 },
 "nbformat": 4,
 "nbformat_minor": 5
}
